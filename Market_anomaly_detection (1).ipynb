{
  "nbformat": 4,
  "nbformat_minor": 0,
  "metadata": {
    "colab": {
      "provenance": []
    },
    "kernelspec": {
      "name": "python3",
      "display_name": "Python 3"
    },
    "language_info": {
      "name": "python"
    }
  },
  "cells": [
    {
      "cell_type": "code",
      "execution_count": null,
      "metadata": {
        "id": "T5pAIseryg-A",
        "colab": {
          "base_uri": "https://localhost:8080/"
        },
        "outputId": "6cec9e97-0cf6-4d05-ceeb-ee5afefde355"
      },
      "outputs": [
        {
          "output_type": "stream",
          "name": "stdout",
          "text": [
            "   Y       Data  XAU BGNL  ECSURPUS    BDIY     CRY     DXY     JPY    GBP  \\\n",
            "0  0  1/11/2000    283.25     0.077  1388.0  157.26  100.56  105.86  1.646   \n",
            "1  0  1/18/2000    287.65     0.043  1405.0  165.01  101.86  105.47  1.638   \n",
            "2  0  1/25/2000    287.15     0.135  1368.0  167.24  102.41  106.04  1.650   \n",
            "3  0   2/1/2000    282.75     0.191  1311.0  166.85  104.92  107.85  1.611   \n",
            "4  1   2/8/2000    298.40     0.312  1277.0  165.43  104.22  109.30  1.611   \n",
            "\n",
            "     Cl1  ...  LP01TREU  EMUSTRUU  LF94TRUU     MXUS    MXEU     MXJP    MXBR  \\\n",
            "0  25.77  ...   116.464   230.527   123.762  1416.12  127.75   990.59  856.76   \n",
            "1  28.85  ...   117.267   231.377   123.762  1428.79  129.50   993.98  925.22   \n",
            "2  28.28  ...   117.995   232.390   123.762  1385.93  126.48   974.83  886.93   \n",
            "3  28.22  ...   120.510   231.942   122.328  1385.31  129.19  1007.12  842.60   \n",
            "4  28.02  ...   118.791   237.812   122.328  1411.95  134.67  1034.58  945.15   \n",
            "\n",
            "     MXRU    MXIN   MXCN  \n",
            "0  224.33  217.34  34.30  \n",
            "1  234.37  227.08  32.74  \n",
            "2  216.82  233.00  32.46  \n",
            "3  201.89  237.48  31.29  \n",
            "4  218.00  258.02  31.32  \n",
            "\n",
            "[5 rows x 44 columns]\n"
          ]
        }
      ],
      "source": [
        "import pandas as pd\n",
        "\n",
        "# Load the dataset\n",
        "file_path = '/content/FinancialMarketData.xlsx - EWS.csv'  # Adjust based on the uploaded file's name\n",
        "data = pd.read_csv(file_path)\n",
        "\n",
        "# Display the first few rows\n",
        "print(data.head())"
      ]
    },
    {
      "cell_type": "code",
      "source": [
        "# Check for missing values\n",
        "print(data.isnull().sum())\n",
        "\n",
        "# Check column data types\n",
        "print(data.dtypes)\n",
        "\n",
        "# Display a statistical summary\n",
        "print(data.describe())\n"
      ],
      "metadata": {
        "colab": {
          "base_uri": "https://localhost:8080/"
        },
        "id": "L7GgMwMJzOGn",
        "outputId": "6d09847b-ded6-47e5-e896-d6df2bcc2281"
      },
      "execution_count": null,
      "outputs": [
        {
          "output_type": "stream",
          "name": "stdout",
          "text": [
            "Y            0\n",
            "Data         0\n",
            "XAU BGNL     0\n",
            "ECSURPUS     0\n",
            "BDIY         0\n",
            "CRY          0\n",
            "DXY          0\n",
            "JPY          0\n",
            "GBP          0\n",
            "Cl1          0\n",
            "VIX          0\n",
            "USGG30YR     0\n",
            "GT10         0\n",
            "USGG2YR      0\n",
            "USGG3M       0\n",
            "US0001M      0\n",
            "GTDEM30Y     0\n",
            "GTDEM10Y     0\n",
            "GTDEM2Y      0\n",
            "EONIA        0\n",
            "GTITL30YR    0\n",
            "GTITL10YR    0\n",
            "GTITL2YR     0\n",
            "GTJPY30YR    0\n",
            "GTJPY10YR    0\n",
            "GTJPY2YR     0\n",
            "GTGBP30Y     0\n",
            "GTGBP20Y     0\n",
            "GTGBP2Y      0\n",
            "LUMSTRUU     0\n",
            "LMBITR       0\n",
            "LUACTRUU     0\n",
            "LF98TRUU     0\n",
            "LG30TRUU     0\n",
            "LP01TREU     0\n",
            "EMUSTRUU     0\n",
            "LF94TRUU     0\n",
            "MXUS         0\n",
            "MXEU         0\n",
            "MXJP         0\n",
            "MXBR         0\n",
            "MXRU         0\n",
            "MXIN         0\n",
            "MXCN         0\n",
            "dtype: int64\n",
            "Y              int64\n",
            "Data          object\n",
            "XAU BGNL     float64\n",
            "ECSURPUS     float64\n",
            "BDIY         float64\n",
            "CRY          float64\n",
            "DXY          float64\n",
            "JPY          float64\n",
            "GBP          float64\n",
            "Cl1          float64\n",
            "VIX          float64\n",
            "USGG30YR     float64\n",
            "GT10         float64\n",
            "USGG2YR      float64\n",
            "USGG3M       float64\n",
            "US0001M      float64\n",
            "GTDEM30Y     float64\n",
            "GTDEM10Y     float64\n",
            "GTDEM2Y      float64\n",
            "EONIA        float64\n",
            "GTITL30YR    float64\n",
            "GTITL10YR    float64\n",
            "GTITL2YR     float64\n",
            "GTJPY30YR    float64\n",
            "GTJPY10YR    float64\n",
            "GTJPY2YR     float64\n",
            "GTGBP30Y     float64\n",
            "GTGBP20Y     float64\n",
            "GTGBP2Y      float64\n",
            "LUMSTRUU     float64\n",
            "LMBITR       float64\n",
            "LUACTRUU     float64\n",
            "LF98TRUU     float64\n",
            "LG30TRUU     float64\n",
            "LP01TREU     float64\n",
            "EMUSTRUU     float64\n",
            "LF94TRUU     float64\n",
            "MXUS         float64\n",
            "MXEU         float64\n",
            "MXJP         float64\n",
            "MXBR         float64\n",
            "MXRU         float64\n",
            "MXIN         float64\n",
            "MXCN         float64\n",
            "dtype: object\n",
            "                 Y     XAU BGNL     ECSURPUS          BDIY          CRY  \\\n",
            "count  1111.000000  1111.000000  1111.000000   1111.000000  1111.000000   \n",
            "mean      0.213321   987.463744     0.036153   2259.860486   245.247670   \n",
            "std       0.409837   494.623740     0.349453   2017.811888    68.278066   \n",
            "min       0.000000   256.680000    -0.974000    291.000000   106.293000   \n",
            "25%       0.000000   433.740000    -0.191000    990.000000   184.705550   \n",
            "50%       0.000000  1137.800000     0.035000   1518.000000   234.560000   \n",
            "75%       0.000000  1324.825000     0.260500   2685.500000   301.539500   \n",
            "max       1.000000  2006.910000     0.991000  11793.000000   467.570000   \n",
            "\n",
            "               DXY          JPY          GBP          Cl1          VIX  ...  \\\n",
            "count  1111.000000  1111.000000  1111.000000  1111.000000  1111.000000  ...   \n",
            "mean     90.934982   106.605734     1.569661    60.708101    19.992169  ...   \n",
            "std      11.379095    12.840754     0.212344    25.900813     8.642157  ...   \n",
            "min      71.329000    75.940000     1.172000    10.010000     9.430000  ...   \n",
            "25%      81.240500   101.565000     1.418000    39.625000    13.640000  ...   \n",
            "50%      89.716000   108.720000     1.562000    57.400000    17.980000  ...   \n",
            "75%      97.404000   116.220000     1.677500    79.640000    23.625000  ...   \n",
            "max     119.820000   134.630000     2.085000   140.970000    75.910000  ...   \n",
            "\n",
            "          LP01TREU     EMUSTRUU     LF94TRUU         MXUS         MXEU  \\\n",
            "count  1111.000000  1111.000000  1111.000000  1111.000000  1111.000000   \n",
            "mean    232.109985   704.379545   259.052717  1606.997102   107.877138   \n",
            "std     109.917628   309.951757    75.934451   698.481956    20.795973   \n",
            "min      80.797000   230.527000   121.331000   663.690000    56.300000   \n",
            "25%     131.025000   434.661000   205.315500  1103.925000    90.605000   \n",
            "50%     213.205000   714.807000   264.770000  1324.430000   111.320000   \n",
            "75%     342.884500   939.824500   320.753000  1992.445000   126.470000   \n",
            "max     431.552800  1286.353000   398.706500  4043.690000   146.390000   \n",
            "\n",
            "              MXJP         MXBR         MXRU         MXIN         MXCN  \n",
            "count  1111.000000  1111.000000  1111.000000  1111.000000  1111.000000  \n",
            "mean    784.846292  1903.216436   648.681377   693.156616    53.933159  \n",
            "std     200.076443   986.468254   299.096020   405.527014    24.738356  \n",
            "min     431.710000   280.500000   151.250000   112.600000    13.460000  \n",
            "25%     601.615000  1042.645000   463.195000   278.385000    28.565000  \n",
            "50%     786.830000  1860.960000   612.930000   691.530000    58.740000  \n",
            "75%     965.875000  2533.770000   793.620000  1014.750000    68.460000  \n",
            "max    1210.580000  4721.360000  1617.640000  1730.510000   129.200000  \n",
            "\n",
            "[8 rows x 43 columns]\n"
          ]
        }
      ]
    },
    {
      "cell_type": "code",
      "source": [
        "# Convert 'Data' column to datetime\n",
        "data['Data'] = pd.to_datetime(data['Data'], errors='coerce')\n",
        "\n",
        "# Verify the conversion\n",
        "print(data['Data'].head())\n"
      ],
      "metadata": {
        "id": "xiwHmAI3z7lo"
      },
      "execution_count": null,
      "outputs": []
    },
    {
      "cell_type": "code",
      "source": [
        "from sklearn.preprocessing import StandardScaler\n",
        "\n",
        "# Initialize the scaler\n",
        "scaler = StandardScaler()\n",
        "\n",
        "# Select numeric columns but exclude 'Y'\n",
        "numeric_cols = data.drop(columns=['Y', 'Data']).select_dtypes(include=['float64', 'int64']).columns\n",
        "\n",
        "# Apply scaling only to the features\n",
        "data_scaled = data.copy()  # Create a copy to preserve the original\n",
        "data_scaled[numeric_cols] = scaler.fit_transform(data[numeric_cols])\n",
        "\n",
        "# Verify that 'Y' is not scaled\n",
        "print(data_scaled[['Y']].head())  # This should show the original values of Y\n",
        "print(data_scaled[numeric_cols].head())"
      ],
      "metadata": {
        "colab": {
          "base_uri": "https://localhost:8080/"
        },
        "id": "O4_KQ_Tk07ii",
        "outputId": "2e815b19-bb67-4d66-a55c-1c2c894d4efa"
      },
      "execution_count": null,
      "outputs": [
        {
          "output_type": "stream",
          "name": "stdout",
          "text": [
            "   Y\n",
            "0  0\n",
            "1  0\n",
            "2  0\n",
            "3  0\n",
            "4  1\n",
            "   XAU BGNL  ECSURPUS      BDIY       CRY       DXY       JPY       GBP  \\\n",
            "0 -1.424377  0.116941 -0.432277 -1.289247  0.846232 -0.058102  0.359670   \n",
            "1 -1.415478  0.019602 -0.423848 -1.175690  0.960528 -0.088487  0.321978   \n",
            "2 -1.416489  0.282989 -0.442193 -1.143014  1.008884 -0.044078  0.378516   \n",
            "3 -1.425389  0.443312 -0.470454 -1.148729  1.229563  0.096943  0.194769   \n",
            "4 -1.393734  0.789723 -0.487312 -1.169535  1.168019  0.209916  0.194769   \n",
            "\n",
            "        Cl1       VIX  USGG30YR  ...  LP01TREU  EMUSTRUU  LF94TRUU      MXUS  \\\n",
            "0 -1.349527  0.290316  2.345088  ... -1.052589 -1.529483 -1.782480 -0.273397   \n",
            "1 -1.230558  0.174552  2.409601  ... -1.045280 -1.526739 -1.782480 -0.255250   \n",
            "2 -1.252575  0.350514  2.313680  ... -1.038654 -1.523470 -1.782480 -0.316639   \n",
            "3 -1.254892  0.400292  2.134571  ... -1.015763 -1.524916 -1.801373 -0.317527   \n",
            "4 -1.262618  0.145611  1.971591  ... -1.031409 -1.505969 -1.801373 -0.279370   \n",
            "\n",
            "       MXEU      MXJP      MXBR      MXRU      MXIN      MXCN  \n",
            "0  0.956041  1.028789 -1.061289 -1.419419 -1.173857 -0.793990  \n",
            "1  1.040230  1.045740 -0.991858 -1.385836 -1.149828 -0.857078  \n",
            "2  0.894944  0.949983 -1.030691 -1.444539 -1.135224 -0.868402  \n",
            "3  1.025317  1.111444 -1.075649 -1.494479 -1.124171 -0.915718  \n",
            "4  1.288948  1.248754 -0.971646 -1.440592 -1.073498 -0.914505  \n",
            "\n",
            "[5 rows x 42 columns]\n"
          ]
        }
      ]
    },
    {
      "cell_type": "code",
      "source": [
        "from sklearn.model_selection import train_test_split\n",
        "\n",
        "# Separate features (X) and target (y)\n",
        "X = data_scaled.drop(columns=['Y', 'Data'])  # Exclude 'Y' and 'Data'\n",
        "y = data_scaled['Y']\n",
        "\n",
        "# Split the data\n",
        "X_train, X_test, y_train, y_test = train_test_split(X, y, test_size=0.2, random_state=42)\n",
        "\n",
        "# Verify the split\n",
        "print(\"Training set size:\", X_train.shape)\n",
        "print(\"Testing set size:\", X_test.shape)\n"
      ],
      "metadata": {
        "colab": {
          "base_uri": "https://localhost:8080/"
        },
        "id": "iKsdYX3M1O16",
        "outputId": "46c11c7a-736f-436e-94b2-a0ff88ebc17c"
      },
      "execution_count": null,
      "outputs": [
        {
          "output_type": "stream",
          "name": "stdout",
          "text": [
            "Training set size: (888, 42)\n",
            "Testing set size: (223, 42)\n"
          ]
        }
      ]
    },
    {
      "cell_type": "code",
      "source": [
        "from sklearn.linear_model import LogisticRegression\n",
        "from sklearn.metrics import accuracy_score, confusion_matrix, classification_report\n",
        "\n",
        "# Initialize the model\n",
        "model = LogisticRegression(random_state=42)\n",
        "\n",
        "# Train the model\n",
        "model.fit(X_train, y_train)\n",
        "\n",
        "# Make predictions on the test set\n",
        "y_pred = model.predict(X_test)\n",
        "\n",
        "# Evaluate the model\n",
        "print(\"Accuracy:\", accuracy_score(y_test, y_pred))\n",
        "print(\"Confusion Matrix:\\n\", confusion_matrix(y_test, y_pred))\n",
        "print(\"Classification Report:\\n\", classification_report(y_test, y_pred))\n"
      ],
      "metadata": {
        "colab": {
          "base_uri": "https://localhost:8080/"
        },
        "id": "W--_9zdf2TG8",
        "outputId": "c6baf04a-e7dd-4885-d196-5383eb1fbbd4"
      },
      "execution_count": null,
      "outputs": [
        {
          "output_type": "stream",
          "name": "stdout",
          "text": [
            "Accuracy: 0.8878923766816144\n",
            "Confusion Matrix:\n",
            " [[168   9]\n",
            " [ 16  30]]\n",
            "Classification Report:\n",
            "               precision    recall  f1-score   support\n",
            "\n",
            "           0       0.91      0.95      0.93       177\n",
            "           1       0.77      0.65      0.71        46\n",
            "\n",
            "    accuracy                           0.89       223\n",
            "   macro avg       0.84      0.80      0.82       223\n",
            "weighted avg       0.88      0.89      0.88       223\n",
            "\n"
          ]
        }
      ]
    },
    {
      "cell_type": "code",
      "source": [
        "# Check the distribution of the target variable\n",
        "print(y.value_counts())\n",
        "\n",
        "# Optional: Visualize the distribution\n",
        "import matplotlib.pyplot as plt\n",
        "\n",
        "y.value_counts().plot(kind='bar', color=['blue', 'orange'])\n",
        "plt.title('Class Distribution')\n",
        "plt.xlabel('Class')\n",
        "plt.ylabel('Count')\n",
        "plt.show()\n"
      ],
      "metadata": {
        "colab": {
          "base_uri": "https://localhost:8080/",
          "height": 540
        },
        "id": "P9B03sQE2jE_",
        "outputId": "0798e361-fd99-422b-e445-014507ab388f"
      },
      "execution_count": null,
      "outputs": [
        {
          "output_type": "stream",
          "name": "stdout",
          "text": [
            "Y\n",
            "0    874\n",
            "1    237\n",
            "Name: count, dtype: int64\n"
          ]
        },
        {
          "output_type": "display_data",
          "data": {
            "text/plain": [
              "<Figure size 640x480 with 1 Axes>"
            ],
            "image/png": "[encoded data removed]"
          },
          "metadata": {}
        }
      ]
    },
    {
      "cell_type": "code",
      "source": [
        "# Train logistic regression with class weights\n",
        "model_weighted = LogisticRegression(random_state=42, class_weight='balanced')\n",
        "\n",
        "# Train the model\n",
        "model_weighted.fit(X_train, y_train)\n",
        "\n",
        "# Make predictions\n",
        "y_pred_weighted = model_weighted.predict(X_test)\n",
        "\n",
        "# Evaluate the model\n",
        "print(\"Accuracy:\", accuracy_score(y_test, y_pred_weighted))\n",
        "print(\"Confusion Matrix:\\n\", confusion_matrix(y_test, y_pred_weighted))\n",
        "print(\"Classification Report:\\n\", classification_report(y_test, y_pred_weighted))\n"
      ],
      "metadata": {
        "colab": {
          "base_uri": "https://localhost:8080/"
        },
        "id": "pNW6FVgN29i3",
        "outputId": "838413a0-59f1-44ed-d25d-c5d6107d6166"
      },
      "execution_count": null,
      "outputs": [
        {
          "output_type": "stream",
          "name": "stdout",
          "text": [
            "Accuracy: 0.852017937219731\n",
            "Confusion Matrix:\n",
            " [[153  24]\n",
            " [  9  37]]\n",
            "Classification Report:\n",
            "               precision    recall  f1-score   support\n",
            "\n",
            "           0       0.94      0.86      0.90       177\n",
            "           1       0.61      0.80      0.69        46\n",
            "\n",
            "    accuracy                           0.85       223\n",
            "   macro avg       0.78      0.83      0.80       223\n",
            "weighted avg       0.87      0.85      0.86       223\n",
            "\n"
          ]
        }
      ]
    },
    {
      "cell_type": "code",
      "source": [
        "from imblearn.over_sampling import SMOTE\n",
        "\n",
        "# Initialize SMOTE\n",
        "smote = SMOTE(random_state=42)\n",
        "\n",
        "# Apply SMOTE to the training data\n",
        "X_train_smote, y_train_smote = smote.fit_resample(X_train, y_train)\n",
        "\n",
        "# Check the new class distribution\n",
        "print(\"Class distribution after SMOTE:\", y_train_smote.value_counts())\n"
      ],
      "metadata": {
        "colab": {
          "base_uri": "https://localhost:8080/"
        },
        "id": "bi6EVH1I4I1X",
        "outputId": "ee557432-9382-4b89-8a80-f03d539f4921"
      },
      "execution_count": null,
      "outputs": [
        {
          "output_type": "stream",
          "name": "stdout",
          "text": [
            "Class distribution after SMOTE: Y\n",
            "0    697\n",
            "1    697\n",
            "Name: count, dtype: int64\n"
          ]
        }
      ]
    },
    {
      "cell_type": "code",
      "source": [
        "# Train logistic regression on balanced data\n",
        "model_smote = LogisticRegression(random_state=42)\n",
        "model_smote.fit(X_train_smote, y_train_smote)\n",
        "\n",
        "# Make predictions on the test set\n",
        "y_pred_smote = model_smote.predict(X_test)\n",
        "\n",
        "# Evaluate the model\n",
        "from sklearn.metrics import accuracy_score, confusion_matrix, classification_report\n",
        "\n",
        "print(\"Accuracy:\", accuracy_score(y_test, y_pred_smote))\n",
        "print(\"Confusion Matrix:\\n\", confusion_matrix(y_test, y_pred_smote))\n",
        "print(\"Classification Report:\\n\", classification_report(y_test, y_pred_smote))\n"
      ],
      "metadata": {
        "colab": {
          "base_uri": "https://localhost:8080/"
        },
        "id": "SMK_RJJG4NbK",
        "outputId": "8ff80e54-e03d-4535-d063-5d2013573df9"
      },
      "execution_count": null,
      "outputs": [
        {
          "output_type": "stream",
          "name": "stdout",
          "text": [
            "Accuracy: 0.8654708520179372\n",
            "Confusion Matrix:\n",
            " [[156  21]\n",
            " [  9  37]]\n",
            "Classification Report:\n",
            "               precision    recall  f1-score   support\n",
            "\n",
            "           0       0.95      0.88      0.91       177\n",
            "           1       0.64      0.80      0.71        46\n",
            "\n",
            "    accuracy                           0.87       223\n",
            "   macro avg       0.79      0.84      0.81       223\n",
            "weighted avg       0.88      0.87      0.87       223\n",
            "\n"
          ]
        }
      ]
    },
    {
      "cell_type": "code",
      "source": [
        "from sklearn.model_selection import GridSearchCV\n",
        "from sklearn.linear_model import LogisticRegression\n",
        "\n",
        "# Define the parameter grid\n",
        "param_grid = {\n",
        "    'C': [0.01, 0.1, 1, 10, 100],  # Regularization strength\n",
        "    'solver': ['liblinear', 'lbfgs'],  # Solvers\n",
        "    'class_weight': ['balanced']  # Keep class weights balanced\n",
        "}\n",
        "\n",
        "# Initialize the logistic regression model\n",
        "log_reg = LogisticRegression(random_state=42)\n",
        "\n",
        "# Initialize GridSearchCV\n",
        "grid_search = GridSearchCV(\n",
        "    estimator=log_reg,\n",
        "    param_grid=param_grid,\n",
        "    cv=5,  # 5-fold cross-validation\n",
        "    scoring='f1',  # Optimize for F1 score\n",
        "    verbose=2\n",
        ")\n",
        "\n",
        "# Fit GridSearchCV to the training data\n",
        "grid_search.fit(X_train_smote, y_train_smote)\n",
        "\n",
        "# Display the best parameters and corresponding score\n",
        "print(\"Best Parameters:\", grid_search.best_params_)\n",
        "print(\"Best F1 Score:\", grid_search.best_score_)\n"
      ],
      "metadata": {
        "colab": {
          "base_uri": "https://localhost:8080/"
        },
        "id": "hcunR02w4RkO",
        "outputId": "1f393836-244a-4145-9946-1d01478708e1"
      },
      "execution_count": null,
      "outputs": [
        {
          "output_type": "stream",
          "name": "stdout",
          "text": [
            "Fitting 5 folds for each of 10 candidates, totalling 50 fits\n",
            "[CV] END ....C=0.01, class_weight=balanced, solver=liblinear; total time=   0.0s\n",
            "[CV] END ....C=0.01, class_weight=balanced, solver=liblinear; total time=   0.0s\n",
            "[CV] END ....C=0.01, class_weight=balanced, solver=liblinear; total time=   0.0s\n",
            "[CV] END ....C=0.01, class_weight=balanced, solver=liblinear; total time=   0.0s\n",
            "[CV] END ....C=0.01, class_weight=balanced, solver=liblinear; total time=   0.0s\n",
            "[CV] END ........C=0.01, class_weight=balanced, solver=lbfgs; total time=   0.1s\n",
            "[CV] END ........C=0.01, class_weight=balanced, solver=lbfgs; total time=   0.0s\n",
            "[CV] END ........C=0.01, class_weight=balanced, solver=lbfgs; total time=   0.1s\n",
            "[CV] END ........C=0.01, class_weight=balanced, solver=lbfgs; total time=   0.1s\n",
            "[CV] END ........C=0.01, class_weight=balanced, solver=lbfgs; total time=   0.1s\n",
            "[CV] END .....C=0.1, class_weight=balanced, solver=liblinear; total time=   0.1s\n",
            "[CV] END .....C=0.1, class_weight=balanced, solver=liblinear; total time=   0.1s\n",
            "[CV] END .....C=0.1, class_weight=balanced, solver=liblinear; total time=   0.1s\n",
            "[CV] END .....C=0.1, class_weight=balanced, solver=liblinear; total time=   0.1s\n",
            "[CV] END .....C=0.1, class_weight=balanced, solver=liblinear; total time=   0.1s\n",
            "[CV] END .........C=0.1, class_weight=balanced, solver=lbfgs; total time=   0.1s\n",
            "[CV] END .........C=0.1, class_weight=balanced, solver=lbfgs; total time=   0.2s\n",
            "[CV] END .........C=0.1, class_weight=balanced, solver=lbfgs; total time=   0.2s\n",
            "[CV] END .........C=0.1, class_weight=balanced, solver=lbfgs; total time=   0.1s\n",
            "[CV] END .........C=0.1, class_weight=balanced, solver=lbfgs; total time=   0.1s\n",
            "[CV] END .......C=1, class_weight=balanced, solver=liblinear; total time=   0.1s\n",
            "[CV] END .......C=1, class_weight=balanced, solver=liblinear; total time=   0.1s\n",
            "[CV] END .......C=1, class_weight=balanced, solver=liblinear; total time=   0.1s\n",
            "[CV] END .......C=1, class_weight=balanced, solver=liblinear; total time=   0.1s\n",
            "[CV] END .......C=1, class_weight=balanced, solver=liblinear; total time=   0.1s\n",
            "[CV] END ...........C=1, class_weight=balanced, solver=lbfgs; total time=   0.2s\n",
            "[CV] END ...........C=1, class_weight=balanced, solver=lbfgs; total time=   0.2s\n",
            "[CV] END ...........C=1, class_weight=balanced, solver=lbfgs; total time=   0.2s\n",
            "[CV] END ...........C=1, class_weight=balanced, solver=lbfgs; total time=   0.2s\n",
            "[CV] END ...........C=1, class_weight=balanced, solver=lbfgs; total time=   0.1s\n",
            "[CV] END ......C=10, class_weight=balanced, solver=liblinear; total time=   0.1s\n",
            "[CV] END ......C=10, class_weight=balanced, solver=liblinear; total time=   0.0s\n",
            "[CV] END ......C=10, class_weight=balanced, solver=liblinear; total time=   0.1s\n",
            "[CV] END ......C=10, class_weight=balanced, solver=liblinear; total time=   0.1s\n",
            "[CV] END ......C=10, class_weight=balanced, solver=liblinear; total time=   0.1s\n"
          ]
        },
        {
          "output_type": "stream",
          "name": "stderr",
          "text": [
            "/usr/local/lib/python3.11/dist-packages/sklearn/linear_model/_logistic.py:465: ConvergenceWarning: lbfgs failed to converge (status=1):\n",
            "STOP: TOTAL NO. of ITERATIONS REACHED LIMIT.\n",
            "\n",
            "Increase the number of iterations (max_iter) or scale the data as shown in:\n",
            "    https://scikit-learn.org/stable/modules/preprocessing.html\n",
            "Please also refer to the documentation for alternative solver options:\n",
            "    https://scikit-learn.org/stable/modules/linear_model.html#logistic-regression\n",
            "  n_iter_i = _check_optimize_result(\n"
          ]
        },
        {
          "output_type": "stream",
          "name": "stdout",
          "text": [
            "[CV] END ..........C=10, class_weight=balanced, solver=lbfgs; total time=   0.2s\n"
          ]
        },
        {
          "output_type": "stream",
          "name": "stderr",
          "text": [
            "/usr/local/lib/python3.11/dist-packages/sklearn/linear_model/_logistic.py:465: ConvergenceWarning: lbfgs failed to converge (status=1):\n",
            "STOP: TOTAL NO. of ITERATIONS REACHED LIMIT.\n",
            "\n",
            "Increase the number of iterations (max_iter) or scale the data as shown in:\n",
            "    https://scikit-learn.org/stable/modules/preprocessing.html\n",
            "Please also refer to the documentation for alternative solver options:\n",
            "    https://scikit-learn.org/stable/modules/linear_model.html#logistic-regression\n",
            "  n_iter_i = _check_optimize_result(\n",
            "/usr/local/lib/python3.11/dist-packages/sklearn/linear_model/_logistic.py:465: ConvergenceWarning: lbfgs failed to converge (status=1):\n",
            "STOP: TOTAL NO. of ITERATIONS REACHED LIMIT.\n",
            "\n",
            "Increase the number of iterations (max_iter) or scale the data as shown in:\n",
            "    https://scikit-learn.org/stable/modules/preprocessing.html\n",
            "Please also refer to the documentation for alternative solver options:\n",
            "    https://scikit-learn.org/stable/modules/linear_model.html#logistic-regression\n",
            "  n_iter_i = _check_optimize_result(\n"
          ]
        },
        {
          "output_type": "stream",
          "name": "stdout",
          "text": [
            "[CV] END ..........C=10, class_weight=balanced, solver=lbfgs; total time=   0.2s\n",
            "[CV] END ..........C=10, class_weight=balanced, solver=lbfgs; total time=   0.2s\n"
          ]
        },
        {
          "output_type": "stream",
          "name": "stderr",
          "text": [
            "/usr/local/lib/python3.11/dist-packages/sklearn/linear_model/_logistic.py:465: ConvergenceWarning: lbfgs failed to converge (status=1):\n",
            "STOP: TOTAL NO. of ITERATIONS REACHED LIMIT.\n",
            "\n",
            "Increase the number of iterations (max_iter) or scale the data as shown in:\n",
            "    https://scikit-learn.org/stable/modules/preprocessing.html\n",
            "Please also refer to the documentation for alternative solver options:\n",
            "    https://scikit-learn.org/stable/modules/linear_model.html#logistic-regression\n",
            "  n_iter_i = _check_optimize_result(\n",
            "/usr/local/lib/python3.11/dist-packages/sklearn/linear_model/_logistic.py:465: ConvergenceWarning: lbfgs failed to converge (status=1):\n",
            "STOP: TOTAL NO. of ITERATIONS REACHED LIMIT.\n",
            "\n",
            "Increase the number of iterations (max_iter) or scale the data as shown in:\n",
            "    https://scikit-learn.org/stable/modules/preprocessing.html\n",
            "Please also refer to the documentation for alternative solver options:\n",
            "    https://scikit-learn.org/stable/modules/linear_model.html#logistic-regression\n",
            "  n_iter_i = _check_optimize_result(\n"
          ]
        },
        {
          "output_type": "stream",
          "name": "stdout",
          "text": [
            "[CV] END ..........C=10, class_weight=balanced, solver=lbfgs; total time=   0.2s\n",
            "[CV] END ..........C=10, class_weight=balanced, solver=lbfgs; total time=   0.1s\n",
            "[CV] END .....C=100, class_weight=balanced, solver=liblinear; total time=   0.2s\n",
            "[CV] END .....C=100, class_weight=balanced, solver=liblinear; total time=   0.1s\n",
            "[CV] END .....C=100, class_weight=balanced, solver=liblinear; total time=   0.1s\n",
            "[CV] END .....C=100, class_weight=balanced, solver=liblinear; total time=   0.1s\n",
            "[CV] END .....C=100, class_weight=balanced, solver=liblinear; total time=   0.1s\n"
          ]
        },
        {
          "output_type": "stream",
          "name": "stderr",
          "text": [
            "/usr/local/lib/python3.11/dist-packages/sklearn/linear_model/_logistic.py:465: ConvergenceWarning: lbfgs failed to converge (status=1):\n",
            "STOP: TOTAL NO. of ITERATIONS REACHED LIMIT.\n",
            "\n",
            "Increase the number of iterations (max_iter) or scale the data as shown in:\n",
            "    https://scikit-learn.org/stable/modules/preprocessing.html\n",
            "Please also refer to the documentation for alternative solver options:\n",
            "    https://scikit-learn.org/stable/modules/linear_model.html#logistic-regression\n",
            "  n_iter_i = _check_optimize_result(\n",
            "/usr/local/lib/python3.11/dist-packages/sklearn/linear_model/_logistic.py:465: ConvergenceWarning: lbfgs failed to converge (status=1):\n",
            "STOP: TOTAL NO. of ITERATIONS REACHED LIMIT.\n",
            "\n",
            "Increase the number of iterations (max_iter) or scale the data as shown in:\n",
            "    https://scikit-learn.org/stable/modules/preprocessing.html\n",
            "Please also refer to the documentation for alternative solver options:\n",
            "    https://scikit-learn.org/stable/modules/linear_model.html#logistic-regression\n",
            "  n_iter_i = _check_optimize_result(\n"
          ]
        },
        {
          "output_type": "stream",
          "name": "stdout",
          "text": [
            "[CV] END .........C=100, class_weight=balanced, solver=lbfgs; total time=   0.3s\n",
            "[CV] END .........C=100, class_weight=balanced, solver=lbfgs; total time=   0.2s\n",
            "[CV] END .........C=100, class_weight=balanced, solver=lbfgs; total time=   0.1s\n"
          ]
        },
        {
          "output_type": "stream",
          "name": "stderr",
          "text": [
            "/usr/local/lib/python3.11/dist-packages/sklearn/linear_model/_logistic.py:465: ConvergenceWarning: lbfgs failed to converge (status=1):\n",
            "STOP: TOTAL NO. of ITERATIONS REACHED LIMIT.\n",
            "\n",
            "Increase the number of iterations (max_iter) or scale the data as shown in:\n",
            "    https://scikit-learn.org/stable/modules/preprocessing.html\n",
            "Please also refer to the documentation for alternative solver options:\n",
            "    https://scikit-learn.org/stable/modules/linear_model.html#logistic-regression\n",
            "  n_iter_i = _check_optimize_result(\n",
            "/usr/local/lib/python3.11/dist-packages/sklearn/linear_model/_logistic.py:465: ConvergenceWarning: lbfgs failed to converge (status=1):\n",
            "STOP: TOTAL NO. of ITERATIONS REACHED LIMIT.\n",
            "\n",
            "Increase the number of iterations (max_iter) or scale the data as shown in:\n",
            "    https://scikit-learn.org/stable/modules/preprocessing.html\n",
            "Please also refer to the documentation for alternative solver options:\n",
            "    https://scikit-learn.org/stable/modules/linear_model.html#logistic-regression\n",
            "  n_iter_i = _check_optimize_result(\n"
          ]
        },
        {
          "output_type": "stream",
          "name": "stdout",
          "text": [
            "[CV] END .........C=100, class_weight=balanced, solver=lbfgs; total time=   0.2s\n",
            "[CV] END .........C=100, class_weight=balanced, solver=lbfgs; total time=   0.2s\n",
            "Best Parameters: {'C': 100, 'class_weight': 'balanced', 'solver': 'liblinear'}\n",
            "Best F1 Score: 0.8893950343482709\n"
          ]
        },
        {
          "output_type": "stream",
          "name": "stderr",
          "text": [
            "/usr/local/lib/python3.11/dist-packages/sklearn/linear_model/_logistic.py:465: ConvergenceWarning: lbfgs failed to converge (status=1):\n",
            "STOP: TOTAL NO. of ITERATIONS REACHED LIMIT.\n",
            "\n",
            "Increase the number of iterations (max_iter) or scale the data as shown in:\n",
            "    https://scikit-learn.org/stable/modules/preprocessing.html\n",
            "Please also refer to the documentation for alternative solver options:\n",
            "    https://scikit-learn.org/stable/modules/linear_model.html#logistic-regression\n",
            "  n_iter_i = _check_optimize_result(\n"
          ]
        }
      ]
    },
    {
      "cell_type": "code",
      "source": [
        "# Get the best model from grid search\n",
        "best_model = grid_search.best_estimator_\n",
        "\n",
        "# Make predictions on the test set\n",
        "y_pred_optimized = best_model.predict(X_test)\n",
        "\n",
        "# Evaluate the optimized model\n",
        "from sklearn.metrics import accuracy_score, confusion_matrix, classification_report\n",
        "\n",
        "print(\"Accuracy:\", accuracy_score(y_test, y_pred_optimized))\n",
        "print(\"Confusion Matrix:\\n\", confusion_matrix(y_test, y_pred_optimized))\n",
        "print(\"Classification Report:\\n\", classification_report(y_test, y_pred_optimized))\n"
      ],
      "metadata": {
        "colab": {
          "base_uri": "https://localhost:8080/"
        },
        "id": "w3Mli1dV4tiE",
        "outputId": "5c0e38d3-b485-420f-ff7b-883a300e85f7"
      },
      "execution_count": null,
      "outputs": [
        {
          "output_type": "stream",
          "name": "stdout",
          "text": [
            "Accuracy: 0.874439461883408\n",
            "Confusion Matrix:\n",
            " [[157  20]\n",
            " [  8  38]]\n",
            "Classification Report:\n",
            "               precision    recall  f1-score   support\n",
            "\n",
            "           0       0.95      0.89      0.92       177\n",
            "           1       0.66      0.83      0.73        46\n",
            "\n",
            "    accuracy                           0.87       223\n",
            "   macro avg       0.80      0.86      0.82       223\n",
            "weighted avg       0.89      0.87      0.88       223\n",
            "\n"
          ]
        }
      ]
    },
    {
      "cell_type": "code",
      "source": [
        "import numpy as np\n",
        "import matplotlib.pyplot as plt\n",
        "\n",
        "# Get the feature names and their corresponding coefficients\n",
        "feature_names = X_train.columns\n",
        "coefficients = best_model.coef_[0]  # Coefficients for the first (and only) class\n",
        "\n",
        "# Create a DataFrame to store the feature importances\n",
        "feature_importance = pd.DataFrame({\n",
        "    'Feature': feature_names,\n",
        "    'Coefficient': coefficients\n",
        "})\n",
        "\n",
        "# Sort by absolute value of the coefficients\n",
        "feature_importance['AbsCoefficient'] = np.abs(feature_importance['Coefficient'])\n",
        "feature_importance = feature_importance.sort_values(by='AbsCoefficient', ascending=False)\n",
        "\n",
        "# Display the top features\n",
        "print(\"Top 10 Important Features:\")\n",
        "print(feature_importance.head(10))\n",
        "\n",
        "# Visualize the feature importance\n",
        "plt.figure(figsize=(10, 6))\n",
        "plt.barh(feature_importance['Feature'][:10], feature_importance['AbsCoefficient'][:10], color='skyblue')\n",
        "plt.xlabel('Absolute Coefficient Value')\n",
        "plt.ylabel('Feature')\n",
        "plt.title('Top 10 Important Features')\n",
        "plt.gca().invert_yaxis()  # Invert y-axis for better readability\n",
        "plt.show()\n"
      ],
      "metadata": {
        "id": "wcvp5mq_40XJ",
        "colab": {
          "base_uri": "https://localhost:8080/",
          "height": 783
        },
        "outputId": "8f4dcb87-b36f-46d1-e782-21d77029dc79"
      },
      "execution_count": null,
      "outputs": [
        {
          "output_type": "stream",
          "name": "stdout",
          "text": [
            "Top 10 Important Features:\n",
            "      Feature  Coefficient  AbsCoefficient\n",
            "14   GTDEM30Y    17.006180       17.006180\n",
            "32   LP01TREU    13.931783       13.931783\n",
            "15   GTDEM10Y   -13.238110       13.238110\n",
            "31   LG30TRUU   -10.811828       10.811828\n",
            "9    USGG30YR   -10.222813       10.222813\n",
            "34   LF94TRUU    -9.206032        9.206032\n",
            "27   LUMSTRUU     8.178670        8.178670\n",
            "40       MXIN     6.499634        6.499634\n",
            "19  GTITL10YR     5.386651        5.386651\n",
            "18  GTITL30YR    -5.262561        5.262561\n"
          ]
        },
        {
          "output_type": "display_data",
          "data": {
            "text/plain": [
              "<Figure size 1000x600 with 1 Axes>"
            ],
            "image/png": "[encoded data removed]"
          },
          "metadata": {}
        }
      ]
    },
    {
      "cell_type": "code",
      "source": [
        "# Compute correlations with the target variable\n",
        "correlation_matrix = data.corr()\n",
        "\n",
        "# Extract correlations with the target variable\n",
        "correlation_with_target = correlation_matrix['Y'].sort_values(ascending=False)\n",
        "\n",
        "# Display the top correlations\n",
        "print(\"Top 10 Correlations with Y:\")\n",
        "print(correlation_with_target.head(10))\n",
        "\n",
        "# Display the bottom correlations\n",
        "print(\"\\nBottom 10 Correlations with Y:\")\n",
        "print(correlation_with_target.tail(10))\n"
      ],
      "metadata": {
        "colab": {
          "base_uri": "https://localhost:8080/"
        },
        "id": "zUPu5wCeHdyI",
        "outputId": "e3c4f5e4-a282-43a8-a6f5-27bed1a10f39"
      },
      "execution_count": null,
      "outputs": [
        {
          "output_type": "stream",
          "name": "stdout",
          "text": [
            "Top 10 Correlations with Y:\n",
            "Y            1.000000\n",
            "VIX          0.598432\n",
            "GTITL2YR     0.304528\n",
            "GTITL10YR    0.297573\n",
            "GTITL30YR    0.295000\n",
            "EONIA        0.180311\n",
            "GTDEM30Y     0.141537\n",
            "GTDEM10Y     0.139933\n",
            "GTJPY10YR    0.133660\n",
            "GTDEM2Y      0.130607\n",
            "Name: Y, dtype: float64\n",
            "\n",
            "Bottom 10 Correlations with Y:\n",
            "LUACTRUU   -0.153544\n",
            "LF94TRUU   -0.156550\n",
            "EMUSTRUU   -0.169475\n",
            "MXIN       -0.188942\n",
            "LF98TRUU   -0.189661\n",
            "MXUS       -0.193928\n",
            "LG30TRUU   -0.197232\n",
            "LP01TREU   -0.209774\n",
            "MXEU       -0.253877\n",
            "MXJP       -0.279399\n",
            "Name: Y, dtype: float64\n"
          ]
        }
      ]
    },
    {
      "cell_type": "code",
      "source": [
        "import seaborn as sns\n",
        "import matplotlib.pyplot as plt\n",
        "\n",
        "# Plot the top 10 positively correlated features\n",
        "plt.figure(figsize=(10, 6))\n",
        "sns.barplot(\n",
        "    x=correlation_with_target.head(10).index,\n",
        "    y=correlation_with_target.head(10).values,\n",
        "    palette='viridis'\n",
        ")\n",
        "plt.title('Top 10 Features Positively Correlated with Y')\n",
        "plt.ylabel('Correlation Coefficient')\n",
        "plt.xticks(rotation=45)\n",
        "plt.show()\n",
        "\n",
        "# Plot the top 10 negatively correlated features\n",
        "plt.figure(figsize=(10, 6))\n",
        "sns.barplot(\n",
        "    x=correlation_with_target.tail(10).index,\n",
        "    y=correlation_with_target.tail(10).values,\n",
        "    palette='viridis'\n",
        ")\n",
        "plt.title('Top 10 Features Negatively Correlated with Y')\n",
        "plt.ylabel('Correlation Coefficient')\n",
        "plt.xticks(rotation=45)\n",
        "plt.show()\n"
      ],
      "metadata": {
        "colab": {
          "base_uri": "https://localhost:8080/",
          "height": 1000
        },
        "id": "zvJqhQHUIaUw",
        "outputId": "25be4197-3b04-4a35-cc70-90737a79f7f2"
      },
      "execution_count": null,
      "outputs": [
        {
          "output_type": "stream",
          "name": "stderr",
          "text": [
            "<ipython-input-22-317c66fa62ab>:6: FutureWarning: \n",
            "\n",
            "Passing `palette` without assigning `hue` is deprecated and will be removed in v0.14.0. Assign the `x` variable to `hue` and set `legend=False` for the same effect.\n",
            "\n",
            "  sns.barplot(\n"
          ]
        },
        {
          "output_type": "display_data",
          "data": {
            "text/plain": [
              "<Figure size 1000x600 with 1 Axes>"
            ],
            "image/png": "[encoded data removed]"
          },
          "metadata": {}
        },
        {
          "output_type": "stream",
          "name": "stderr",
          "text": [
            "<ipython-input-22-317c66fa62ab>:18: FutureWarning: \n",
            "\n",
            "Passing `palette` without assigning `hue` is deprecated and will be removed in v0.14.0. Assign the `x` variable to `hue` and set `legend=False` for the same effect.\n",
            "\n",
            "  sns.barplot(\n"
          ]
        },
        {
          "output_type": "display_data",
          "data": {
            "text/plain": [
              "<Figure size 1000x600 with 1 Axes>"
            ],
            "image/png": "[encoded data removed]"
          },
          "metadata": {}
        }
      ]
    },
    {
      "cell_type": "code",
      "source": [
        "print(\"Available features in X_train:\")\n",
        "print(X_train.columns.tolist())\n"
      ],
      "metadata": {
        "colab": {
          "base_uri": "https://localhost:8080/"
        },
        "id": "8Btzt92YJ9Pk",
        "outputId": "17df6a1a-d0d7-4963-93d7-a099d29bd168"
      },
      "execution_count": null,
      "outputs": [
        {
          "output_type": "stream",
          "name": "stdout",
          "text": [
            "Available features in X_train:\n",
            "['XAU BGNL', 'ECSURPUS', 'BDIY', 'CRY', 'DXY', 'JPY', 'GBP', 'Cl1', 'VIX', 'USGG30YR', 'GT10', 'USGG2YR', 'USGG3M', 'US0001M', 'GTDEM30Y', 'GTDEM10Y', 'GTDEM2Y', 'EONIA', 'GTITL30YR', 'GTITL10YR', 'GTITL2YR', 'GTJPY30YR', 'GTJPY10YR', 'GTJPY2YR', 'GTGBP30Y', 'GTGBP20Y', 'GTGBP2Y', 'LUMSTRUU', 'LMBITR', 'LUACTRUU', 'LF98TRUU', 'LG30TRUU', 'LP01TREU', 'EMUSTRUU', 'LF94TRUU', 'MXUS', 'MXEU', 'MXJP', 'MXBR', 'MXRU', 'MXIN', 'MXCN']\n"
          ]
        }
      ]
    },
    {
      "cell_type": "code",
      "source": [
        "# Select the refined feature set\n",
        "refined_features = ['VIX', 'GTDEM30Y', 'GTDEM10Y', 'GTITL2YR',\n",
        "                    'GTITL10YR', 'GTITL30YR', 'EONIA', 'MXEU',\n",
        "                    'MXIN', 'LP01TREU']\n",
        "\n",
        "X_train_refined = X_train[refined_features]\n",
        "X_test_refined = X_test[refined_features]\n",
        "\n",
        "# Train logistic regression on the refined feature set\n",
        "refined_model = LogisticRegression(random_state=42, class_weight='balanced')\n",
        "refined_model.fit(X_train_refined, y_train)\n",
        "\n",
        "# Make predictions\n",
        "y_pred_refined = refined_model.predict(X_test_refined)\n",
        "\n",
        "# Evaluate the refined model\n",
        "from sklearn.metrics import accuracy_score, confusion_matrix, classification_report\n",
        "\n",
        "print(\"Accuracy:\", accuracy_score(y_test, y_pred_refined))\n",
        "print(\"Confusion Matrix:\\n\", confusion_matrix(y_test, y_pred_refined))\n",
        "print(\"Classification Report:\\n\", classification_report(y_test, y_pred_refined))\n"
      ],
      "metadata": {
        "colab": {
          "base_uri": "https://localhost:8080/"
        },
        "id": "6zuvJ3JlIhrm",
        "outputId": "8938578b-c9f1-4267-ac60-ee29e520c9eb"
      },
      "execution_count": null,
      "outputs": [
        {
          "output_type": "stream",
          "name": "stdout",
          "text": [
            "Accuracy: 0.8251121076233184\n",
            "Confusion Matrix:\n",
            " [[147  30]\n",
            " [  9  37]]\n",
            "Classification Report:\n",
            "               precision    recall  f1-score   support\n",
            "\n",
            "           0       0.94      0.83      0.88       177\n",
            "           1       0.55      0.80      0.65        46\n",
            "\n",
            "    accuracy                           0.83       223\n",
            "   macro avg       0.75      0.82      0.77       223\n",
            "weighted avg       0.86      0.83      0.84       223\n",
            "\n"
          ]
        }
      ]
    },
    {
      "cell_type": "code",
      "source": [
        "from sklearn.ensemble import RandomForestClassifier\n",
        "from sklearn.metrics import accuracy_score, confusion_matrix, classification_report\n",
        "\n",
        "# Initialize Random Forest\n",
        "rf_model = RandomForestClassifier(random_state=42, class_weight='balanced', n_estimators=100)\n",
        "\n",
        "# Train the model on the full feature set\n",
        "rf_model.fit(X_train, y_train)\n",
        "\n",
        "# Make predictions\n",
        "y_pred_rf = rf_model.predict(X_test)\n",
        "\n",
        "# Evaluate the Random Forest model\n",
        "print(\"Random Forest Results:\")\n",
        "print(\"Accuracy:\", accuracy_score(y_test, y_pred_rf))\n",
        "print(\"Confusion Matrix:\\n\", confusion_matrix(y_test, y_pred_rf))\n",
        "print(\"Classification Report:\\n\", classification_report(y_test, y_pred_rf))\n"
      ],
      "metadata": {
        "colab": {
          "base_uri": "https://localhost:8080/"
        },
        "id": "JdS4RHdZJg7M",
        "outputId": "5921ee0c-efbb-4620-f40b-ca6573f526e5"
      },
      "execution_count": null,
      "outputs": [
        {
          "output_type": "stream",
          "name": "stdout",
          "text": [
            "Random Forest Results:\n",
            "Accuracy: 0.8968609865470852\n",
            "Confusion Matrix:\n",
            " [[169   8]\n",
            " [ 15  31]]\n",
            "Classification Report:\n",
            "               precision    recall  f1-score   support\n",
            "\n",
            "           0       0.92      0.95      0.94       177\n",
            "           1       0.79      0.67      0.73        46\n",
            "\n",
            "    accuracy                           0.90       223\n",
            "   macro avg       0.86      0.81      0.83       223\n",
            "weighted avg       0.89      0.90      0.89       223\n",
            "\n"
          ]
        }
      ]
    },
    {
      "cell_type": "code",
      "source": [
        "from sklearn.ensemble import GradientBoostingClassifier\n",
        "\n",
        "# Initialize Gradient Boosting\n",
        "gb_model = GradientBoostingClassifier(random_state=42, n_estimators=100)\n",
        "\n",
        "# Train the model on the full feature set\n",
        "gb_model.fit(X_train, y_train)\n",
        "\n",
        "# Make predictions\n",
        "y_pred_gb = gb_model.predict(X_test)\n",
        "\n",
        "# Evaluate the Gradient Boosting model\n",
        "print(\"Gradient Boosting Results:\")\n",
        "print(\"Accuracy:\", accuracy_score(y_test, y_pred_gb))\n",
        "print(\"Confusion Matrix:\\n\", confusion_matrix(y_test, y_pred_gb))\n",
        "print(\"Classification Report:\\n\", classification_report(y_test, y_pred_gb))\n"
      ],
      "metadata": {
        "colab": {
          "base_uri": "https://localhost:8080/"
        },
        "id": "h9j4QHTxKj_l",
        "outputId": "b3afc0ef-a285-4a4f-93f9-75c88335ba0a"
      },
      "execution_count": null,
      "outputs": [
        {
          "output_type": "stream",
          "name": "stdout",
          "text": [
            "Gradient Boosting Results:\n",
            "Accuracy: 0.8878923766816144\n",
            "Confusion Matrix:\n",
            " [[167  10]\n",
            " [ 15  31]]\n",
            "Classification Report:\n",
            "               precision    recall  f1-score   support\n",
            "\n",
            "           0       0.92      0.94      0.93       177\n",
            "           1       0.76      0.67      0.71        46\n",
            "\n",
            "    accuracy                           0.89       223\n",
            "   macro avg       0.84      0.81      0.82       223\n",
            "weighted avg       0.88      0.89      0.89       223\n",
            "\n"
          ]
        }
      ]
    },
    {
      "cell_type": "code",
      "source": [
        "from sklearn.model_selection import GridSearchCV\n",
        "from sklearn.ensemble import RandomForestClassifier\n",
        "\n",
        "# Define the parameter grid\n",
        "param_grid = {\n",
        "    'n_estimators': [50, 100, 200],\n",
        "    'max_depth': [None, 10, 20, 30],\n",
        "    'min_samples_split': [2, 5, 10],\n",
        "    'min_samples_leaf': [1, 2, 4],\n",
        "    'class_weight': ['balanced']\n",
        "}\n",
        "\n",
        "# Initialize Random Forest\n",
        "rf = RandomForestClassifier(random_state=42)\n",
        "\n",
        "# Initialize GridSearchCV\n",
        "grid_search_rf = GridSearchCV(\n",
        "    estimator=rf,\n",
        "    param_grid=param_grid,\n",
        "    cv=5,  # 5-fold cross-validation\n",
        "    scoring='f1',  # Optimize for F1 score\n",
        "    verbose=2,\n",
        "    n_jobs=-1  # Use all available processors\n",
        ")\n",
        "\n",
        "# Fit GridSearchCV to the training data\n",
        "grid_search_rf.fit(X_train, y_train)\n",
        "\n",
        "# Display the best parameters and score\n",
        "print(\"Best Parameters:\", grid_search_rf.best_params_)\n",
        "print(\"Best F1 Score:\", grid_search_rf.best_score_)\n"
      ],
      "metadata": {
        "colab": {
          "base_uri": "https://localhost:8080/"
        },
        "id": "iu1wqs_XKqvF",
        "outputId": "beb290ba-718a-4a67-d081-4f7ac8c55bb0"
      },
      "execution_count": null,
      "outputs": [
        {
          "output_type": "stream",
          "name": "stdout",
          "text": [
            "Fitting 5 folds for each of 108 candidates, totalling 540 fits\n",
            "Best Parameters: {'class_weight': 'balanced', 'max_depth': 10, 'min_samples_leaf': 1, 'min_samples_split': 2, 'n_estimators': 50}\n",
            "Best F1 Score: 0.7576011901072336\n"
          ]
        }
      ]
    },
    {
      "cell_type": "code",
      "source": [
        "# Get the best model\n",
        "best_rf_model = grid_search_rf.best_estimator_\n",
        "\n",
        "# Make predictions on the test set\n",
        "y_pred_best_rf = best_rf_model.predict(X_test)\n",
        "\n",
        "# Evaluate the optimized model\n",
        "from sklearn.metrics import accuracy_score, confusion_matrix, classification_report\n",
        "\n",
        "print(\"Optimized Random Forest Results:\")\n",
        "print(\"Accuracy:\", accuracy_score(y_test, y_pred_best_rf))\n",
        "print(\"Confusion Matrix:\\n\", confusion_matrix(y_test, y_pred_best_rf))\n",
        "print(\"Classification Report:\\n\", classification_report(y_test, y_pred_best_rf))\n"
      ],
      "metadata": {
        "colab": {
          "base_uri": "https://localhost:8080/"
        },
        "id": "0pQA6loCLG2z",
        "outputId": "2a255f59-6d90-45f5-d8b1-fac276ee0334"
      },
      "execution_count": null,
      "outputs": [
        {
          "output_type": "stream",
          "name": "stdout",
          "text": [
            "Optimized Random Forest Results:\n",
            "Accuracy: 0.905829596412556\n",
            "Confusion Matrix:\n",
            " [[168   9]\n",
            " [ 12  34]]\n",
            "Classification Report:\n",
            "               precision    recall  f1-score   support\n",
            "\n",
            "           0       0.93      0.95      0.94       177\n",
            "           1       0.79      0.74      0.76        46\n",
            "\n",
            "    accuracy                           0.91       223\n",
            "   macro avg       0.86      0.84      0.85       223\n",
            "weighted avg       0.90      0.91      0.90       223\n",
            "\n"
          ]
        }
      ]
    },
    {
      "cell_type": "code",
      "source": [
        "import pandas as pd\n",
        "import matplotlib.pyplot as plt\n",
        "\n",
        "# Extract feature importances\n",
        "feature_importances = pd.DataFrame({\n",
        "    'Feature': X_train.columns,\n",
        "    'Importance': best_rf_model.feature_importances_\n",
        "})\n",
        "\n",
        "# Sort by importance\n",
        "feature_importances = feature_importances.sort_values(by='Importance', ascending=False)\n",
        "\n",
        "# Display top 10 features\n",
        "print(\"Top 10 Important Features:\")\n",
        "print(feature_importances.head(10))\n",
        "\n",
        "# Plot top 10 features\n",
        "plt.figure(figsize=(10, 6))\n",
        "plt.barh(feature_importances['Feature'][:10], feature_importances['Importance'][:10], color='skyblue')\n",
        "plt.xlabel('Feature Importance')\n",
        "plt.ylabel('Feature')\n",
        "plt.title('Top 10 Important Features')\n",
        "plt.gca().invert_yaxis()\n",
        "plt.show()\n"
      ],
      "metadata": {
        "colab": {
          "base_uri": "https://localhost:8080/",
          "height": 783
        },
        "id": "NSCFvvBlLP4B",
        "outputId": "38b9f3a6-c071-4301-84ac-acf6da50834f"
      },
      "execution_count": null,
      "outputs": [
        {
          "output_type": "stream",
          "name": "stdout",
          "text": [
            "Top 10 Important Features:\n",
            "      Feature  Importance\n",
            "8         VIX    0.173978\n",
            "18  GTITL30YR    0.054972\n",
            "19  GTITL10YR    0.050147\n",
            "20   GTITL2YR    0.042933\n",
            "3         CRY    0.031369\n",
            "37       MXJP    0.028094\n",
            "7         Cl1    0.028092\n",
            "14   GTDEM30Y    0.027276\n",
            "36       MXEU    0.026763\n",
            "9    USGG30YR    0.026728\n"
          ]
        },
        {
          "output_type": "display_data",
          "data": {
            "text/plain": [
              "<Figure size 1000x600 with 1 Axes>"
            ],
            "image/png": "[encoded data removed]"
          },
          "metadata": {}
        }
      ]
    },
    {
      "cell_type": "code",
      "source": [
        "import joblib\n",
        "\n",
        "# Save the model to a file\n",
        "joblib.dump(best_rf_model, 'optimized_random_forest.pkl')\n",
        "\n",
        "print(\"Model saved as 'optimized_random_forest.pkl'\")\n"
      ],
      "metadata": {
        "colab": {
          "base_uri": "https://localhost:8080/"
        },
        "id": "YIl9fpwqP7iN",
        "outputId": "731f6365-65ef-4713-ffbc-c93c6391cf86"
      },
      "execution_count": null,
      "outputs": [
        {
          "output_type": "stream",
          "name": "stdout",
          "text": [
            "Model saved as 'optimized_random_forest.pkl'\n"
          ]
        }
      ]
    },
    {
      "cell_type": "code",
      "source": [
        "from xgboost import XGBClassifier\n",
        "from sklearn.metrics import accuracy_score, confusion_matrix, classification_report\n",
        "\n",
        "# Initialize XGBoost\n",
        "xgb_model = XGBClassifier(random_state=42, use_label_encoder=False, eval_metric='logloss')\n",
        "\n",
        "# Train the model on the full feature set\n",
        "xgb_model.fit(X_train, y_train)\n",
        "\n",
        "# Make predictions\n",
        "y_pred_xgb = xgb_model.predict(X_test)\n",
        "\n",
        "# Evaluate the XGBoost model\n",
        "print(\"XGBoost Results:\")\n",
        "print(\"Accuracy:\", accuracy_score(y_test, y_pred_xgb))\n",
        "print(\"Confusion Matrix:\\n\", confusion_matrix(y_test, y_pred_xgb))\n",
        "print(\"Classification Report:\\n\", classification_report(y_test, y_pred_xgb))\n"
      ],
      "metadata": {
        "colab": {
          "base_uri": "https://localhost:8080/"
        },
        "id": "L56DAVgaQNx3",
        "outputId": "39b9d222-c08a-4a15-d68f-13cf00929a9d"
      },
      "execution_count": null,
      "outputs": [
        {
          "output_type": "stream",
          "name": "stderr",
          "text": [
            "/usr/local/lib/python3.11/dist-packages/xgboost/core.py:158: UserWarning: [12:34:11] WARNING: /workspace/src/learner.cc:740: \n",
            "Parameters: { \"use_label_encoder\" } are not used.\n",
            "\n",
            "  warnings.warn(smsg, UserWarning)\n"
          ]
        },
        {
          "output_type": "stream",
          "name": "stdout",
          "text": [
            "XGBoost Results:\n",
            "Accuracy: 0.905829596412556\n",
            "Confusion Matrix:\n",
            " [[171   6]\n",
            " [ 15  31]]\n",
            "Classification Report:\n",
            "               precision    recall  f1-score   support\n",
            "\n",
            "           0       0.92      0.97      0.94       177\n",
            "           1       0.84      0.67      0.75        46\n",
            "\n",
            "    accuracy                           0.91       223\n",
            "   macro avg       0.88      0.82      0.84       223\n",
            "weighted avg       0.90      0.91      0.90       223\n",
            "\n"
          ]
        }
      ]
    },
    {
      "cell_type": "code",
      "source": [
        "from lightgbm import LGBMClassifier\n",
        "\n",
        "# Initialize LightGBM\n",
        "lgb_model = LGBMClassifier(random_state=42)\n",
        "\n",
        "# Train the model on the full feature set\n",
        "lgb_model.fit(X_train, y_train)\n",
        "\n",
        "# Make predictions\n",
        "y_pred_lgb = lgb_model.predict(X_test)\n",
        "\n",
        "# Evaluate the LightGBM model\n",
        "print(\"LightGBM Results:\")\n",
        "print(\"Accuracy:\", accuracy_score(y_test, y_pred_lgb))\n",
        "print(\"Confusion Matrix:\\n\", confusion_matrix(y_test, y_pred_lgb))\n",
        "print(\"Classification Report:\\n\", classification_report(y_test, y_pred_lgb))\n"
      ],
      "metadata": {
        "colab": {
          "base_uri": "https://localhost:8080/"
        },
        "id": "dswPhTtBQbab",
        "outputId": "a1b69c47-851d-40ed-b9b6-5853b4ed0180"
      },
      "execution_count": null,
      "outputs": [
        {
          "output_type": "stream",
          "name": "stderr",
          "text": [
            "/usr/local/lib/python3.11/dist-packages/dask/dataframe/__init__.py:42: FutureWarning: \n",
            "Dask dataframe query planning is disabled because dask-expr is not installed.\n",
            "\n",
            "You can install it with `pip install dask[dataframe]` or `conda install dask`.\n",
            "This will raise in a future version.\n",
            "\n",
            "  warnings.warn(msg, FutureWarning)\n"
          ]
        },
        {
          "output_type": "stream",
          "name": "stdout",
          "text": [
            "[LightGBM] [Warning] Found whitespace in feature_names, replace with underlines\n",
            "[LightGBM] [Info] Number of positive: 191, number of negative: 697\n",
            "[LightGBM] [Info] Auto-choosing col-wise multi-threading, the overhead of testing was 0.001625 seconds.\n",
            "You can set `force_col_wise=true` to remove the overhead.\n",
            "[LightGBM] [Info] Total Bins 10706\n",
            "[LightGBM] [Info] Number of data points in the train set: 888, number of used features: 42\n",
            "[LightGBM] [Info] [binary:BoostFromScore]: pavg=0.215090 -> initscore=-1.294512\n",
            "[LightGBM] [Info] Start training from score -1.294512\n",
            "[LightGBM] [Warning] No further splits with positive gain, best gain: -inf\n",
            "[LightGBM] [Warning] No further splits with positive gain, best gain: -inf\n",
            "[LightGBM] [Warning] No further splits with positive gain, best gain: -inf\n",
            "[LightGBM] [Warning] No further splits with positive gain, best gain: -inf\n",
            "LightGBM Results:\n",
            "Accuracy: 0.9192825112107623\n",
            "Confusion Matrix:\n",
            " [[172   5]\n",
            " [ 13  33]]\n",
            "Classification Report:\n",
            "               precision    recall  f1-score   support\n",
            "\n",
            "           0       0.93      0.97      0.95       177\n",
            "           1       0.87      0.72      0.79        46\n",
            "\n",
            "    accuracy                           0.92       223\n",
            "   macro avg       0.90      0.84      0.87       223\n",
            "weighted avg       0.92      0.92      0.92       223\n",
            "\n"
          ]
        }
      ]
    },
    {
      "cell_type": "code",
      "source": [
        "from sklearn.model_selection import GridSearchCV\n",
        "from lightgbm import LGBMClassifier\n",
        "\n",
        "# Define parameter grid for LightGBM\n",
        "lgb_param_grid = {\n",
        "    'n_estimators': [50, 100, 200],\n",
        "    'max_depth': [5, 10, 15],\n",
        "    'learning_rate': [0.01, 0.05, 0.1],\n",
        "    'num_leaves': [20, 31, 40]\n",
        "}\n",
        "\n",
        "# Initialize LightGBM\n",
        "lgb = LGBMClassifier(random_state=42)\n",
        "\n",
        "# Set up GridSearchCV\n",
        "lgb_grid = GridSearchCV(\n",
        "    estimator=lgb,\n",
        "    param_grid=lgb_param_grid,\n",
        "    cv=5,  # 5-fold cross-validation\n",
        "    scoring='f1',  # Optimize for F1 score\n",
        "    verbose=2,\n",
        "    n_jobs=-1\n",
        ")\n",
        "\n",
        "# Fit GridSearchCV to the training data\n",
        "lgb_grid.fit(X_train, y_train)\n",
        "\n",
        "# Display the best parameters and score\n",
        "print(\"Best LightGBM Parameters:\", lgb_grid.best_params_)\n",
        "print(\"Best LightGBM F1 Score:\", lgb_grid.best_score_)\n"
      ],
      "metadata": {
        "colab": {
          "base_uri": "https://localhost:8080/"
        },
        "id": "RVBQnezdRZOE",
        "outputId": "f7456fcb-f0b6-4d7b-fdaf-7eb91f95593c"
      },
      "execution_count": null,
      "outputs": [
        {
          "output_type": "stream",
          "name": "stdout",
          "text": [
            "Fitting 5 folds for each of 81 candidates, totalling 405 fits\n"
          ]
        },
        {
          "output_type": "stream",
          "name": "stderr",
          "text": [
            "/usr/local/lib/python3.11/dist-packages/sklearn/utils/_tags.py:354: FutureWarning: The LGBMClassifier or classes from which it inherits use `_get_tags` and `_more_tags`. Please define the `__sklearn_tags__` method, or inherit from `sklearn.base.BaseEstimator` and/or other appropriate mixins such as `sklearn.base.TransformerMixin`, `sklearn.base.ClassifierMixin`, `sklearn.base.RegressorMixin`, and `sklearn.base.OutlierMixin`. From scikit-learn 1.7, not defining `__sklearn_tags__` will raise an error.\n"
          ]
        },
        {
          "output_type": "stream",
          "name": "stdout",
          "text": [
            "[LightGBM] [Warning] Found whitespace in feature_names, replace with underlines\n",
            "[LightGBM] [Info] Number of positive: 191, number of negative: 697\n",
            "[LightGBM] [Info] Auto-choosing col-wise multi-threading, the overhead of testing was 0.000876 seconds.\n",
            "You can set `force_col_wise=true` to remove the overhead.\n",
            "[LightGBM] [Info] Total Bins 10706\n",
            "[LightGBM] [Info] Number of data points in the train set: 888, number of used features: 42\n",
            "[LightGBM] [Info] [binary:BoostFromScore]: pavg=0.215090 -> initscore=-1.294512\n",
            "[LightGBM] [Info] Start training from score -1.294512\n",
            "[LightGBM] [Warning] No further splits with positive gain, best gain: -inf\n",
            "[LightGBM] [Warning] No further splits with positive gain, best gain: -inf\n",
            "[LightGBM] [Warning] No further splits with positive gain, best gain: -inf\n",
            "[LightGBM] [Warning] No further splits with positive gain, best gain: -inf\n",
            "[LightGBM] [Warning] No further splits with positive gain, best gain: -inf\n",
            "[LightGBM] [Warning] No further splits with positive gain, best gain: -inf\n",
            "[LightGBM] [Warning] No further splits with positive gain, best gain: -inf\n",
            "[LightGBM] [Warning] No further splits with positive gain, best gain: -inf\n",
            "[LightGBM] [Warning] No further splits with positive gain, best gain: -inf\n",
            "[LightGBM] [Warning] No further splits with positive gain, best gain: -inf\n",
            "[LightGBM] [Warning] No further splits with positive gain, best gain: -inf\n",
            "[LightGBM] [Warning] No further splits with positive gain, best gain: -inf\n",
            "[LightGBM] [Warning] No further splits with positive gain, best gain: -inf\n",
            "[LightGBM] [Warning] No further splits with positive gain, best gain: -inf\n",
            "[LightGBM] [Warning] No further splits with positive gain, best gain: -inf\n",
            "[LightGBM] [Warning] No further splits with positive gain, best gain: -inf\n",
            "[LightGBM] [Warning] No further splits with positive gain, best gain: -inf\n",
            "[LightGBM] [Warning] No further splits with positive gain, best gain: -inf\n",
            "[LightGBM] [Warning] No further splits with positive gain, best gain: -inf\n",
            "[LightGBM] [Warning] No further splits with positive gain, best gain: -inf\n",
            "[LightGBM] [Warning] No further splits with positive gain, best gain: -inf\n",
            "[LightGBM] [Warning] No further splits with positive gain, best gain: -inf\n",
            "[LightGBM] [Warning] No further splits with positive gain, best gain: -inf\n",
            "[LightGBM] [Warning] No further splits with positive gain, best gain: -inf\n",
            "[LightGBM] [Warning] No further splits with positive gain, best gain: -inf\n",
            "[LightGBM] [Warning] No further splits with positive gain, best gain: -inf\n",
            "[LightGBM] [Warning] No further splits with positive gain, best gain: -inf\n",
            "[LightGBM] [Warning] No further splits with positive gain, best gain: -inf\n",
            "[LightGBM] [Warning] No further splits with positive gain, best gain: -inf\n",
            "[LightGBM] [Warning] No further splits with positive gain, best gain: -inf\n",
            "[LightGBM] [Warning] No further splits with positive gain, best gain: -inf\n",
            "[LightGBM] [Warning] No further splits with positive gain, best gain: -inf\n",
            "[LightGBM] [Warning] No further splits with positive gain, best gain: -inf\n",
            "[LightGBM] [Warning] No further splits with positive gain, best gain: -inf\n",
            "[LightGBM] [Warning] No further splits with positive gain, best gain: -inf\n",
            "[LightGBM] [Warning] No further splits with positive gain, best gain: -inf\n",
            "[LightGBM] [Warning] No further splits with positive gain, best gain: -inf\n",
            "[LightGBM] [Warning] No further splits with positive gain, best gain: -inf\n",
            "[LightGBM] [Warning] No further splits with positive gain, best gain: -inf\n",
            "[LightGBM] [Warning] No further splits with positive gain, best gain: -inf\n",
            "[LightGBM] [Warning] No further splits with positive gain, best gain: -inf\n",
            "[LightGBM] [Warning] No further splits with positive gain, best gain: -inf\n",
            "[LightGBM] [Warning] No further splits with positive gain, best gain: -inf\n",
            "[LightGBM] [Warning] No further splits with positive gain, best gain: -inf\n",
            "[LightGBM] [Warning] No further splits with positive gain, best gain: -inf\n",
            "[LightGBM] [Warning] No further splits with positive gain, best gain: -inf\n",
            "[LightGBM] [Warning] No further splits with positive gain, best gain: -inf\n",
            "[LightGBM] [Warning] No further splits with positive gain, best gain: -inf\n",
            "[LightGBM] [Warning] No further splits with positive gain, best gain: -inf\n",
            "[LightGBM] [Warning] No further splits with positive gain, best gain: -inf\n",
            "[LightGBM] [Warning] No further splits with positive gain, best gain: -inf\n",
            "[LightGBM] [Warning] No further splits with positive gain, best gain: -inf\n",
            "[LightGBM] [Warning] No further splits with positive gain, best gain: -inf\n",
            "[LightGBM] [Warning] No further splits with positive gain, best gain: -inf\n",
            "[LightGBM] [Warning] No further splits with positive gain, best gain: -inf\n",
            "[LightGBM] [Warning] No further splits with positive gain, best gain: -inf\n",
            "[LightGBM] [Warning] No further splits with positive gain, best gain: -inf\n",
            "[LightGBM] [Warning] No further splits with positive gain, best gain: -inf\n",
            "[LightGBM] [Warning] No further splits with positive gain, best gain: -inf\n",
            "[LightGBM] [Warning] No further splits with positive gain, best gain: -inf\n",
            "[LightGBM] [Warning] No further splits with positive gain, best gain: -inf\n",
            "[LightGBM] [Warning] No further splits with positive gain, best gain: -inf\n",
            "[LightGBM] [Warning] No further splits with positive gain, best gain: -inf\n",
            "[LightGBM] [Warning] No further splits with positive gain, best gain: -inf\n",
            "[LightGBM] [Warning] No further splits with positive gain, best gain: -inf\n",
            "[LightGBM] [Warning] No further splits with positive gain, best gain: -inf\n",
            "[LightGBM] [Warning] No further splits with positive gain, best gain: -inf\n",
            "[LightGBM] [Warning] No further splits with positive gain, best gain: -inf\n",
            "[LightGBM] [Warning] No further splits with positive gain, best gain: -inf\n",
            "[LightGBM] [Warning] No further splits with positive gain, best gain: -inf\n",
            "[LightGBM] [Warning] No further splits with positive gain, best gain: -inf\n",
            "[LightGBM] [Warning] No further splits with positive gain, best gain: -inf\n",
            "[LightGBM] [Warning] No further splits with positive gain, best gain: -inf\n",
            "[LightGBM] [Warning] No further splits with positive gain, best gain: -inf\n",
            "[LightGBM] [Warning] No further splits with positive gain, best gain: -inf\n",
            "[LightGBM] [Warning] No further splits with positive gain, best gain: -inf\n",
            "[LightGBM] [Warning] No further splits with positive gain, best gain: -inf\n",
            "[LightGBM] [Warning] No further splits with positive gain, best gain: -inf\n",
            "[LightGBM] [Warning] No further splits with positive gain, best gain: -inf\n",
            "[LightGBM] [Warning] No further splits with positive gain, best gain: -inf\n",
            "[LightGBM] [Warning] No further splits with positive gain, best gain: -inf\n",
            "[LightGBM] [Warning] No further splits with positive gain, best gain: -inf\n",
            "[LightGBM] [Warning] No further splits with positive gain, best gain: -inf\n",
            "[LightGBM] [Warning] No further splits with positive gain, best gain: -inf\n",
            "[LightGBM] [Warning] No further splits with positive gain, best gain: -inf\n",
            "[LightGBM] [Warning] No further splits with positive gain, best gain: -inf\n",
            "[LightGBM] [Warning] No further splits with positive gain, best gain: -inf\n",
            "[LightGBM] [Warning] No further splits with positive gain, best gain: -inf\n",
            "[LightGBM] [Warning] No further splits with positive gain, best gain: -inf\n",
            "[LightGBM] [Warning] No further splits with positive gain, best gain: -inf\n",
            "[LightGBM] [Warning] No further splits with positive gain, best gain: -inf\n",
            "[LightGBM] [Warning] No further splits with positive gain, best gain: -inf\n",
            "[LightGBM] [Warning] No further splits with positive gain, best gain: -inf\n",
            "[LightGBM] [Warning] No further splits with positive gain, best gain: -inf\n",
            "[LightGBM] [Warning] No further splits with positive gain, best gain: -inf\n",
            "[LightGBM] [Warning] No further splits with positive gain, best gain: -inf\n",
            "[LightGBM] [Warning] No further splits with positive gain, best gain: -inf\n",
            "[LightGBM] [Warning] No further splits with positive gain, best gain: -inf\n",
            "[LightGBM] [Warning] No further splits with positive gain, best gain: -inf\n",
            "[LightGBM] [Warning] No further splits with positive gain, best gain: -inf\n",
            "[LightGBM] [Warning] No further splits with positive gain, best gain: -inf\n",
            "[LightGBM] [Warning] No further splits with positive gain, best gain: -inf\n",
            "[LightGBM] [Warning] No further splits with positive gain, best gain: -inf\n",
            "[LightGBM] [Warning] No further splits with positive gain, best gain: -inf\n",
            "[LightGBM] [Warning] No further splits with positive gain, best gain: -inf\n",
            "[LightGBM] [Warning] No further splits with positive gain, best gain: -inf\n",
            "[LightGBM] [Warning] No further splits with positive gain, best gain: -inf\n",
            "[LightGBM] [Warning] No further splits with positive gain, best gain: -inf\n",
            "[LightGBM] [Warning] No further splits with positive gain, best gain: -inf\n",
            "[LightGBM] [Warning] No further splits with positive gain, best gain: -inf\n",
            "[LightGBM] [Warning] No further splits with positive gain, best gain: -inf\n",
            "[LightGBM] [Warning] No further splits with positive gain, best gain: -inf\n",
            "[LightGBM] [Warning] No further splits with positive gain, best gain: -inf\n",
            "[LightGBM] [Warning] No further splits with positive gain, best gain: -inf\n",
            "[LightGBM] [Warning] No further splits with positive gain, best gain: -inf\n",
            "[LightGBM] [Warning] No further splits with positive gain, best gain: -inf\n",
            "[LightGBM] [Warning] No further splits with positive gain, best gain: -inf\n",
            "[LightGBM] [Warning] No further splits with positive gain, best gain: -inf\n",
            "[LightGBM] [Warning] No further splits with positive gain, best gain: -inf\n",
            "[LightGBM] [Warning] No further splits with positive gain, best gain: -inf\n",
            "[LightGBM] [Warning] No further splits with positive gain, best gain: -inf\n",
            "[LightGBM] [Warning] No further splits with positive gain, best gain: -inf\n",
            "[LightGBM] [Warning] No further splits with positive gain, best gain: -inf\n",
            "[LightGBM] [Warning] No further splits with positive gain, best gain: -inf\n",
            "[LightGBM] [Warning] No further splits with positive gain, best gain: -inf\n",
            "[LightGBM] [Warning] No further splits with positive gain, best gain: -inf\n",
            "[LightGBM] [Warning] No further splits with positive gain, best gain: -inf\n",
            "[LightGBM] [Warning] No further splits with positive gain, best gain: -inf\n",
            "[LightGBM] [Warning] No further splits with positive gain, best gain: -inf\n",
            "[LightGBM] [Warning] No further splits with positive gain, best gain: -inf\n",
            "[LightGBM] [Warning] No further splits with positive gain, best gain: -inf\n",
            "[LightGBM] [Warning] No further splits with positive gain, best gain: -inf\n",
            "[LightGBM] [Warning] No further splits with positive gain, best gain: -inf\n",
            "[LightGBM] [Warning] No further splits with positive gain, best gain: -inf\n",
            "[LightGBM] [Warning] No further splits with positive gain, best gain: -inf\n",
            "[LightGBM] [Warning] No further splits with positive gain, best gain: -inf\n",
            "[LightGBM] [Warning] No further splits with positive gain, best gain: -inf\n",
            "[LightGBM] [Warning] No further splits with positive gain, best gain: -inf\n",
            "[LightGBM] [Warning] No further splits with positive gain, best gain: -inf\n",
            "[LightGBM] [Warning] No further splits with positive gain, best gain: -inf\n",
            "[LightGBM] [Warning] No further splits with positive gain, best gain: -inf\n",
            "[LightGBM] [Warning] No further splits with positive gain, best gain: -inf\n",
            "[LightGBM] [Warning] No further splits with positive gain, best gain: -inf\n",
            "[LightGBM] [Warning] No further splits with positive gain, best gain: -inf\n",
            "[LightGBM] [Warning] No further splits with positive gain, best gain: -inf\n",
            "[LightGBM] [Warning] No further splits with positive gain, best gain: -inf\n",
            "[LightGBM] [Warning] No further splits with positive gain, best gain: -inf\n",
            "[LightGBM] [Warning] No further splits with positive gain, best gain: -inf\n",
            "[LightGBM] [Warning] No further splits with positive gain, best gain: -inf\n",
            "[LightGBM] [Warning] No further splits with positive gain, best gain: -inf\n",
            "[LightGBM] [Warning] No further splits with positive gain, best gain: -inf\n",
            "[LightGBM] [Warning] No further splits with positive gain, best gain: -inf\n",
            "[LightGBM] [Warning] No further splits with positive gain, best gain: -inf\n",
            "[LightGBM] [Warning] No further splits with positive gain, best gain: -inf\n",
            "[LightGBM] [Warning] No further splits with positive gain, best gain: -inf\n",
            "[LightGBM] [Warning] No further splits with positive gain, best gain: -inf\n",
            "[LightGBM] [Warning] No further splits with positive gain, best gain: -inf\n",
            "[LightGBM] [Warning] No further splits with positive gain, best gain: -inf\n",
            "[LightGBM] [Warning] No further splits with positive gain, best gain: -inf\n",
            "[LightGBM] [Warning] No further splits with positive gain, best gain: -inf\n",
            "[LightGBM] [Warning] No further splits with positive gain, best gain: -inf\n",
            "[LightGBM] [Warning] No further splits with positive gain, best gain: -inf\n",
            "[LightGBM] [Warning] No further splits with positive gain, best gain: -inf\n",
            "[LightGBM] [Warning] No further splits with positive gain, best gain: -inf\n",
            "[LightGBM] [Warning] No further splits with positive gain, best gain: -inf\n",
            "[LightGBM] [Warning] No further splits with positive gain, best gain: -inf\n",
            "[LightGBM] [Warning] No further splits with positive gain, best gain: -inf\n",
            "[LightGBM] [Warning] No further splits with positive gain, best gain: -inf\n",
            "[LightGBM] [Warning] No further splits with positive gain, best gain: -inf\n",
            "[LightGBM] [Warning] No further splits with positive gain, best gain: -inf\n",
            "[LightGBM] [Warning] No further splits with positive gain, best gain: -inf\n",
            "[LightGBM] [Warning] No further splits with positive gain, best gain: -inf\n",
            "[LightGBM] [Warning] No further splits with positive gain, best gain: -inf\n",
            "[LightGBM] [Warning] No further splits with positive gain, best gain: -inf\n",
            "[LightGBM] [Warning] No further splits with positive gain, best gain: -inf\n",
            "[LightGBM] [Warning] No further splits with positive gain, best gain: -inf\n",
            "[LightGBM] [Warning] No further splits with positive gain, best gain: -inf\n",
            "[LightGBM] [Warning] No further splits with positive gain, best gain: -inf\n",
            "[LightGBM] [Warning] No further splits with positive gain, best gain: -inf\n",
            "[LightGBM] [Warning] No further splits with positive gain, best gain: -inf\n",
            "[LightGBM] [Warning] No further splits with positive gain, best gain: -inf\n",
            "[LightGBM] [Warning] No further splits with positive gain, best gain: -inf\n",
            "[LightGBM] [Warning] No further splits with positive gain, best gain: -inf\n",
            "[LightGBM] [Warning] No further splits with positive gain, best gain: -inf\n",
            "[LightGBM] [Warning] No further splits with positive gain, best gain: -inf\n",
            "[LightGBM] [Warning] No further splits with positive gain, best gain: -inf\n",
            "[LightGBM] [Warning] No further splits with positive gain, best gain: -inf\n",
            "[LightGBM] [Warning] No further splits with positive gain, best gain: -inf\n",
            "[LightGBM] [Warning] No further splits with positive gain, best gain: -inf\n",
            "[LightGBM] [Warning] No further splits with positive gain, best gain: -inf\n",
            "[LightGBM] [Warning] No further splits with positive gain, best gain: -inf\n",
            "[LightGBM] [Warning] No further splits with positive gain, best gain: -inf\n",
            "[LightGBM] [Warning] No further splits with positive gain, best gain: -inf\n",
            "[LightGBM] [Warning] No further splits with positive gain, best gain: -inf\n",
            "[LightGBM] [Warning] No further splits with positive gain, best gain: -inf\n",
            "[LightGBM] [Warning] No further splits with positive gain, best gain: -inf\n",
            "[LightGBM] [Warning] No further splits with positive gain, best gain: -inf\n",
            "[LightGBM] [Warning] No further splits with positive gain, best gain: -inf\n",
            "Best LightGBM Parameters: {'learning_rate': 0.1, 'max_depth': 10, 'n_estimators': 200, 'num_leaves': 40}\n",
            "Best LightGBM F1 Score: 0.7760675127539336\n"
          ]
        }
      ]
    },
    {
      "cell_type": "code",
      "source": [
        "# Get the best LightGBM model\n",
        "lgb_best_model = lgb_grid.best_estimator_\n",
        "\n",
        "# Make predictions with the best LightGBM model\n",
        "y_pred_lgb_best = lgb_best_model.predict(X_test)\n",
        "\n",
        "# Evaluate LightGBM model predictions\n",
        "print(\"Optimized LightGBM Results:\")\n",
        "print(\"Accuracy:\", accuracy_score(y_test, y_pred_lgb_best))\n",
        "print(\"Confusion Matrix:\\n\", confusion_matrix(y_test, y_pred_lgb_best))\n",
        "print(\"Classification Report:\\n\", classification_report(y_test, y_pred_lgb_best))\n"
      ],
      "metadata": {
        "colab": {
          "base_uri": "https://localhost:8080/"
        },
        "id": "TDOJNV_GTlWy",
        "outputId": "ec0567e1-e876-40c5-b2f3-3d0a497c744d"
      },
      "execution_count": null,
      "outputs": [
        {
          "output_type": "stream",
          "name": "stdout",
          "text": [
            "Optimized LightGBM Results:\n",
            "Accuracy: 0.9237668161434978\n",
            "Confusion Matrix:\n",
            " [[170   7]\n",
            " [ 10  36]]\n",
            "Classification Report:\n",
            "               precision    recall  f1-score   support\n",
            "\n",
            "           0       0.94      0.96      0.95       177\n",
            "           1       0.84      0.78      0.81        46\n",
            "\n",
            "    accuracy                           0.92       223\n",
            "   macro avg       0.89      0.87      0.88       223\n",
            "weighted avg       0.92      0.92      0.92       223\n",
            "\n"
          ]
        }
      ]
    },
    {
      "cell_type": "code",
      "source": [
        "import joblib\n",
        "\n",
        "# Save the optimized LightGBM model\n",
        "joblib.dump(lgb_best_model, 'optimized_lightgbm_model.pkl')\n",
        "\n",
        "print(\"Optimized LightGBM model saved as 'optimized_lightgbm_model.pkl'\")\n"
      ],
      "metadata": {
        "colab": {
          "base_uri": "https://localhost:8080/"
        },
        "id": "b1RRnfIBWost",
        "outputId": "27037338-3276-43fe-f87f-30021f0e1d19"
      },
      "execution_count": null,
      "outputs": [
        {
          "output_type": "stream",
          "name": "stdout",
          "text": [
            "Optimized LightGBM model saved as 'optimized_lightgbm_model.pkl'\n"
          ]
        }
      ]
    },
    {
      "cell_type": "code",
      "source": [
        "import numpy as np\n",
        "from sklearn.ensemble import RandomForestClassifier\n",
        "from sklearn.metrics import accuracy_score, confusion_matrix, classification_report\n",
        "\n",
        "# Train Random Forest model (ensure it's the optimized one)\n",
        "rf = RandomForestClassifier(random_state=42, n_estimators=50, class_weight='balanced')\n",
        "rf.fit(X_train, y_train)\n",
        "\n",
        "# Predict probabilities from both models\n",
        "lgb_probs = lgb_best_model.predict_proba(X_test)\n",
        "rf_probs = rf.predict_proba(X_test)\n",
        "\n",
        "# Average the probabilities\n",
        "combined_probs = (lgb_probs + rf_probs) / 2\n",
        "\n",
        "# Convert probabilities to class predictions\n",
        "combined_predictions = np.argmax(combined_probs, axis=1)\n",
        "\n",
        "# Evaluate the combined model\n",
        "print(\"Combined LightGBM and Random Forest Results:\")\n",
        "print(\"Accuracy:\", accuracy_score(y_test, combined_predictions))\n",
        "print(\"Confusion Matrix:\\n\", confusion_matrix(y_test, combined_predictions))\n",
        "print(\"Classification Report:\\n\", classification_report(y_test, combined_predictions))\n"
      ],
      "metadata": {
        "colab": {
          "base_uri": "https://localhost:8080/"
        },
        "id": "7hDN-hl0XXo_",
        "outputId": "30649d0d-7938-4508-f8cf-36f412547350"
      },
      "execution_count": null,
      "outputs": [
        {
          "output_type": "stream",
          "name": "stdout",
          "text": [
            "Combined LightGBM and Random Forest Results:\n",
            "Accuracy: 0.9417040358744395\n",
            "Confusion Matrix:\n",
            " [[173   4]\n",
            " [  9  37]]\n",
            "Classification Report:\n",
            "               precision    recall  f1-score   support\n",
            "\n",
            "           0       0.95      0.98      0.96       177\n",
            "           1       0.90      0.80      0.85        46\n",
            "\n",
            "    accuracy                           0.94       223\n",
            "   macro avg       0.93      0.89      0.91       223\n",
            "weighted avg       0.94      0.94      0.94       223\n",
            "\n"
          ]
        }
      ]
    },
    {
      "cell_type": "code",
      "source": [
        "pip install optuna\n"
      ],
      "metadata": {
        "colab": {
          "base_uri": "https://localhost:8080/"
        },
        "collapsed": true,
        "id": "QxqkNVuvT2Sw",
        "outputId": "0b299d7d-26bb-45ee-c29f-07e6ceddd737"
      },
      "execution_count": null,
      "outputs": [
        {
          "output_type": "stream",
          "name": "stdout",
          "text": [
            "Collecting optuna\n",
            "  Downloading optuna-4.1.0-py3-none-any.whl.metadata (16 kB)\n",
            "Collecting alembic>=1.5.0 (from optuna)\n",
            "  Downloading alembic-1.14.0-py3-none-any.whl.metadata (7.4 kB)\n",
            "Collecting colorlog (from optuna)\n",
            "  Downloading colorlog-6.9.0-py3-none-any.whl.metadata (10 kB)\n",
            "Requirement already satisfied: numpy in /usr/local/lib/python3.11/dist-packages (from optuna) (1.26.4)\n",
            "Requirement already satisfied: packaging>=20.0 in /usr/local/lib/python3.11/dist-packages (from optuna) (24.2)\n",
            "Requirement already satisfied: sqlalchemy>=1.4.2 in /usr/local/lib/python3.11/dist-packages (from optuna) (2.0.37)\n",
            "Requirement already satisfied: tqdm in /usr/local/lib/python3.11/dist-packages (from optuna) (4.67.1)\n",
            "Requirement already satisfied: PyYAML in /usr/local/lib/python3.11/dist-packages (from optuna) (6.0.2)\n",
            "Collecting Mako (from alembic>=1.5.0->optuna)\n",
            "  Downloading Mako-1.3.8-py3-none-any.whl.metadata (2.9 kB)\n",
            "Requirement already satisfied: typing-extensions>=4 in /usr/local/lib/python3.11/dist-packages (from alembic>=1.5.0->optuna) (4.12.2)\n",
            "Requirement already satisfied: greenlet!=0.4.17 in /usr/local/lib/python3.11/dist-packages (from sqlalchemy>=1.4.2->optuna) (3.1.1)\n",
            "Requirement already satisfied: MarkupSafe>=0.9.2 in /usr/local/lib/python3.11/dist-packages (from Mako->alembic>=1.5.0->optuna) (3.0.2)\n",
            "Downloading optuna-4.1.0-py3-none-any.whl (364 kB)\n",
            "\u001b[2K   \u001b[90m━━━━━━━━━━━━━━━━━━━━━━━━━━━━━━━━━━━━━━━━\u001b[0m \u001b[32m364.4/364.4 kB\u001b[0m \u001b[31m7.7 MB/s\u001b[0m eta \u001b[36m0:00:00\u001b[0m\n",
            "\u001b[?25hDownloading alembic-1.14.0-py3-none-any.whl (233 kB)\n",
            "\u001b[2K   \u001b[90m━━━━━━━━━━━━━━━━━━━━━━━━━━━━━━━━━━━━━━━━\u001b[0m \u001b[32m233.5/233.5 kB\u001b[0m \u001b[31m13.4 MB/s\u001b[0m eta \u001b[36m0:00:00\u001b[0m\n",
            "\u001b[?25hDownloading colorlog-6.9.0-py3-none-any.whl (11 kB)\n",
            "Downloading Mako-1.3.8-py3-none-any.whl (78 kB)\n",
            "\u001b[2K   \u001b[90m━━━━━━━━━━━━━━━━━━━━━━━━━━━━━━━━━━━━━━━━\u001b[0m \u001b[32m78.6/78.6 kB\u001b[0m \u001b[31m6.4 MB/s\u001b[0m eta \u001b[36m0:00:00\u001b[0m\n",
            "\u001b[?25hInstalling collected packages: Mako, colorlog, alembic, optuna\n",
            "Successfully installed Mako-1.3.8 alembic-1.14.0 colorlog-6.9.0 optuna-4.1.0\n"
          ]
        }
      ]
    },
    {
      "cell_type": "code",
      "source": [
        "import optuna\n",
        "from xgboost import XGBClassifier\n",
        "from sklearn.metrics import f1_score\n",
        "from sklearn.model_selection import train_test_split\n",
        "\n",
        "# Define objective function for Optuna\n",
        "def objective(trial):\n",
        "    # Define hyperparameter search space\n",
        "    param_grid = {\n",
        "        'n_estimators': trial.suggest_int('n_estimators', 50, 300),\n",
        "        'max_depth': trial.suggest_int('max_depth', 3, 15),\n",
        "        'learning_rate': trial.suggest_float('learning_rate', 0.01, 0.3),\n",
        "        'subsample': trial.suggest_float('subsample', 0.6, 1.0),\n",
        "        'colsample_bytree': trial.suggest_float('colsample_bytree', 0.6, 1.0),\n",
        "        'gamma': trial.suggest_float('gamma', 0, 5),\n",
        "        'reg_alpha': trial.suggest_float('reg_alpha', 0, 10),\n",
        "        'reg_lambda': trial.suggest_float('reg_lambda', 0, 10)\n",
        "    }\n",
        "\n",
        "    # Initialize XGBoost with the trial parameters\n",
        "    xgb = XGBClassifier(\n",
        "        random_state=42,\n",
        "        use_label_encoder=False,\n",
        "        eval_metric='logloss',\n",
        "        **param_grid\n",
        "    )\n",
        "\n",
        "    # Fit and evaluate using a train/validation split\n",
        "    X_train_opt, X_val_opt, y_train_opt, y_val_opt = train_test_split(X_train, y_train, test_size=0.2, random_state=42)\n",
        "    xgb.fit(X_train_opt, y_train_opt)\n",
        "    y_pred_val = xgb.predict(X_val_opt)\n",
        "\n",
        "    # Evaluate performance using F1 score\n",
        "    return f1_score(y_val_opt, y_pred_val)\n",
        "\n",
        "# Run Optuna\n",
        "study = optuna.create_study(direction=\"maximize\")\n",
        "study.optimize(objective, n_trials=50)\n",
        "\n",
        "print(\"Best hyperparameters:\", study.best_params)\n",
        "\n"
      ],
      "metadata": {
        "colab": {
          "base_uri": "https://localhost:8080/"
        },
        "collapsed": true,
        "id": "mgVoUKovSvMq",
        "outputId": "adeb4198-a2d6-4ca1-dd64-93c27e74089b"
      },
      "execution_count": null,
      "outputs": [
        {
          "output_type": "stream",
          "name": "stderr",
          "text": [
            "[I 2025-01-17 13:08:56,952] A new study created in memory with name: no-name-a23e6092-8b61-450f-8aee-57aa831ebc66\n",
            "/usr/local/lib/python3.11/dist-packages/xgboost/core.py:158: UserWarning: [13:08:57] WARNING: /workspace/src/learner.cc:740: \n",
            "Parameters: { \"use_label_encoder\" } are not used.\n",
            "\n",
            "  warnings.warn(smsg, UserWarning)\n",
            "[I 2025-01-17 13:08:57,849] Trial 0 finished with value: 0.7241379310344828 and parameters: {'n_estimators': 248, 'max_depth': 6, 'learning_rate': 0.10423446912491233, 'subsample': 0.912264436225718, 'colsample_bytree': 0.9348646573222912, 'gamma': 1.7921315572417202, 'reg_alpha': 8.874529982654678, 'reg_lambda': 3.2579223732739604}. Best is trial 0 with value: 0.7241379310344828.\n",
            "/usr/local/lib/python3.11/dist-packages/xgboost/core.py:158: UserWarning: [13:08:57] WARNING: /workspace/src/learner.cc:740: \n",
            "Parameters: { \"use_label_encoder\" } are not used.\n",
            "\n",
            "  warnings.warn(smsg, UserWarning)\n",
            "[I 2025-01-17 13:08:57,980] Trial 1 finished with value: 0.6440677966101694 and parameters: {'n_estimators': 70, 'max_depth': 4, 'learning_rate': 0.2954668585239297, 'subsample': 0.7105802035595802, 'colsample_bytree': 0.6976761570249528, 'gamma': 4.485787302733612, 'reg_alpha': 3.140046852815183, 'reg_lambda': 1.3635991846537243}. Best is trial 0 with value: 0.7241379310344828.\n",
            "/usr/local/lib/python3.11/dist-packages/xgboost/core.py:158: UserWarning: [13:08:58] WARNING: /workspace/src/learner.cc:740: \n",
            "Parameters: { \"use_label_encoder\" } are not used.\n",
            "\n",
            "  warnings.warn(smsg, UserWarning)\n",
            "[I 2025-01-17 13:08:58,223] Trial 2 finished with value: 0.711864406779661 and parameters: {'n_estimators': 261, 'max_depth': 14, 'learning_rate': 0.29610260638304087, 'subsample': 0.8179929850498378, 'colsample_bytree': 0.8687331403768155, 'gamma': 0.7750622287931697, 'reg_alpha': 6.9063930586071445, 'reg_lambda': 6.6315237313557365}. Best is trial 0 with value: 0.7241379310344828.\n",
            "/usr/local/lib/python3.11/dist-packages/xgboost/core.py:158: UserWarning: [13:08:58] WARNING: /workspace/src/learner.cc:740: \n",
            "Parameters: { \"use_label_encoder\" } are not used.\n",
            "\n",
            "  warnings.warn(smsg, UserWarning)\n",
            "[I 2025-01-17 13:08:58,497] Trial 3 finished with value: 0.7333333333333333 and parameters: {'n_estimators': 273, 'max_depth': 13, 'learning_rate': 0.28646076662411424, 'subsample': 0.7600049892175356, 'colsample_bytree': 0.7981882692069564, 'gamma': 0.8264599751164653, 'reg_alpha': 2.8115301365897705, 'reg_lambda': 3.2695413099700534}. Best is trial 3 with value: 0.7333333333333333.\n",
            "/usr/local/lib/python3.11/dist-packages/xgboost/core.py:158: UserWarning: [13:08:58] WARNING: /workspace/src/learner.cc:740: \n",
            "Parameters: { \"use_label_encoder\" } are not used.\n",
            "\n",
            "  warnings.warn(smsg, UserWarning)\n",
            "[I 2025-01-17 13:08:58,675] Trial 4 finished with value: 0.711864406779661 and parameters: {'n_estimators': 149, 'max_depth': 15, 'learning_rate': 0.15366014879308462, 'subsample': 0.7781075757404958, 'colsample_bytree': 0.6715696376106283, 'gamma': 1.8109495590063596, 'reg_alpha': 7.256934160228461, 'reg_lambda': 6.362659669774287}. Best is trial 3 with value: 0.7333333333333333.\n",
            "/usr/local/lib/python3.11/dist-packages/xgboost/core.py:158: UserWarning: [13:08:58] WARNING: /workspace/src/learner.cc:740: \n",
            "Parameters: { \"use_label_encoder\" } are not used.\n",
            "\n",
            "  warnings.warn(smsg, UserWarning)\n",
            "[I 2025-01-17 13:08:59,054] Trial 5 finished with value: 0.7142857142857143 and parameters: {'n_estimators': 291, 'max_depth': 6, 'learning_rate': 0.0447279028478929, 'subsample': 0.795860638967336, 'colsample_bytree': 0.7017954269551308, 'gamma': 1.4901054136347303, 'reg_alpha': 9.261679382827015, 'reg_lambda': 0.9950777874049099}. Best is trial 3 with value: 0.7333333333333333.\n",
            "/usr/local/lib/python3.11/dist-packages/xgboost/core.py:158: UserWarning: [13:08:59] WARNING: /workspace/src/learner.cc:740: \n",
            "Parameters: { \"use_label_encoder\" } are not used.\n",
            "\n",
            "  warnings.warn(smsg, UserWarning)\n",
            "[I 2025-01-17 13:08:59,225] Trial 6 finished with value: 0.6896551724137931 and parameters: {'n_estimators': 135, 'max_depth': 14, 'learning_rate': 0.08163619141429156, 'subsample': 0.7667494342601266, 'colsample_bytree': 0.6692402356485351, 'gamma': 4.063279277750335, 'reg_alpha': 3.452978248003735, 'reg_lambda': 1.4896142669993861}. Best is trial 3 with value: 0.7333333333333333.\n",
            "/usr/local/lib/python3.11/dist-packages/xgboost/core.py:158: UserWarning: [13:08:59] WARNING: /workspace/src/learner.cc:740: \n",
            "Parameters: { \"use_label_encoder\" } are not used.\n",
            "\n",
            "  warnings.warn(smsg, UserWarning)\n",
            "[I 2025-01-17 13:08:59,494] Trial 7 finished with value: 0.6896551724137931 and parameters: {'n_estimators': 296, 'max_depth': 3, 'learning_rate': 0.046828407744355725, 'subsample': 0.8037687806741638, 'colsample_bytree': 0.6443172197803602, 'gamma': 3.4297028186863185, 'reg_alpha': 5.11924621897157, 'reg_lambda': 6.081386187655519}. Best is trial 3 with value: 0.7333333333333333.\n",
            "/usr/local/lib/python3.11/dist-packages/xgboost/core.py:158: UserWarning: [13:08:59] WARNING: /workspace/src/learner.cc:740: \n",
            "Parameters: { \"use_label_encoder\" } are not used.\n",
            "\n",
            "  warnings.warn(smsg, UserWarning)\n",
            "[I 2025-01-17 13:08:59,807] Trial 8 finished with value: 0.711864406779661 and parameters: {'n_estimators': 184, 'max_depth': 6, 'learning_rate': 0.07396736382059206, 'subsample': 0.9798375925422244, 'colsample_bytree': 0.8557677252168301, 'gamma': 0.34540997805602436, 'reg_alpha': 9.261130060837484, 'reg_lambda': 3.106125529138144}. Best is trial 3 with value: 0.7333333333333333.\n",
            "/usr/local/lib/python3.11/dist-packages/xgboost/core.py:158: UserWarning: [13:08:59] WARNING: /workspace/src/learner.cc:740: \n",
            "Parameters: { \"use_label_encoder\" } are not used.\n",
            "\n",
            "  warnings.warn(smsg, UserWarning)\n",
            "[I 2025-01-17 13:09:00,032] Trial 9 finished with value: 0.6896551724137931 and parameters: {'n_estimators': 204, 'max_depth': 10, 'learning_rate': 0.0954106165016375, 'subsample': 0.6821169630827022, 'colsample_bytree': 0.6596532883159959, 'gamma': 2.581914818842004, 'reg_alpha': 8.91310603341809, 'reg_lambda': 7.871587377720384}. Best is trial 3 with value: 0.7333333333333333.\n",
            "/usr/local/lib/python3.11/dist-packages/xgboost/core.py:158: UserWarning: [13:09:00] WARNING: /workspace/src/learner.cc:740: \n",
            "Parameters: { \"use_label_encoder\" } are not used.\n",
            "\n",
            "  warnings.warn(smsg, UserWarning)\n",
            "[I 2025-01-17 13:09:00,614] Trial 10 finished with value: 0.7540983606557377 and parameters: {'n_estimators': 225, 'max_depth': 10, 'learning_rate': 0.22766192779530672, 'subsample': 0.6232378178887297, 'colsample_bytree': 0.7813632748695525, 'gamma': 0.03433602905390942, 'reg_alpha': 0.562247251475823, 'reg_lambda': 4.071746350361742}. Best is trial 10 with value: 0.7540983606557377.\n",
            "/usr/local/lib/python3.11/dist-packages/xgboost/core.py:158: UserWarning: [13:09:00] WARNING: /workspace/src/learner.cc:740: \n",
            "Parameters: { \"use_label_encoder\" } are not used.\n",
            "\n",
            "  warnings.warn(smsg, UserWarning)\n",
            "[I 2025-01-17 13:09:01,303] Trial 11 finished with value: 0.7741935483870968 and parameters: {'n_estimators': 235, 'max_depth': 11, 'learning_rate': 0.2227770795782046, 'subsample': 0.6197946155784951, 'colsample_bytree': 0.782586695330968, 'gamma': 0.019156651440892535, 'reg_alpha': 0.3797731370322714, 'reg_lambda': 9.987782386113842}. Best is trial 11 with value: 0.7741935483870968.\n",
            "/usr/local/lib/python3.11/dist-packages/xgboost/core.py:158: UserWarning: [13:09:01] WARNING: /workspace/src/learner.cc:740: \n",
            "Parameters: { \"use_label_encoder\" } are not used.\n",
            "\n",
            "  warnings.warn(smsg, UserWarning)\n",
            "[I 2025-01-17 13:09:01,778] Trial 12 finished with value: 0.7619047619047619 and parameters: {'n_estimators': 221, 'max_depth': 11, 'learning_rate': 0.227968367363822, 'subsample': 0.6001522634260599, 'colsample_bytree': 0.7802397190483125, 'gamma': 0.308217543958007, 'reg_alpha': 0.24607613227602004, 'reg_lambda': 9.717142191351888}. Best is trial 11 with value: 0.7741935483870968.\n",
            "/usr/local/lib/python3.11/dist-packages/xgboost/core.py:158: UserWarning: [13:09:01] WARNING: /workspace/src/learner.cc:740: \n",
            "Parameters: { \"use_label_encoder\" } are not used.\n",
            "\n",
            "  warnings.warn(smsg, UserWarning)\n",
            "[I 2025-01-17 13:09:02,454] Trial 13 finished with value: 0.75 and parameters: {'n_estimators': 216, 'max_depth': 12, 'learning_rate': 0.20715309468392964, 'subsample': 0.6077363844329424, 'colsample_bytree': 0.7739864799176336, 'gamma': 0.015423441805641258, 'reg_alpha': 0.4322081646261835, 'reg_lambda': 9.564148239395939}. Best is trial 11 with value: 0.7741935483870968.\n",
            "/usr/local/lib/python3.11/dist-packages/xgboost/core.py:158: UserWarning: [13:09:02] WARNING: /workspace/src/learner.cc:740: \n",
            "Parameters: { \"use_label_encoder\" } are not used.\n",
            "\n",
            "  warnings.warn(smsg, UserWarning)\n",
            "[I 2025-01-17 13:09:02,742] Trial 14 finished with value: 0.7017543859649122 and parameters: {'n_estimators': 165, 'max_depth': 11, 'learning_rate': 0.22383805768886023, 'subsample': 0.6775130413035151, 'colsample_bytree': 0.7443438679624659, 'gamma': 0.9928348605186355, 'reg_alpha': 1.5018213025801284, 'reg_lambda': 9.73918764173176}. Best is trial 11 with value: 0.7741935483870968.\n",
            "/usr/local/lib/python3.11/dist-packages/xgboost/core.py:158: UserWarning: [13:09:02] WARNING: /workspace/src/learner.cc:740: \n",
            "Parameters: { \"use_label_encoder\" } are not used.\n",
            "\n",
            "  warnings.warn(smsg, UserWarning)\n",
            "[I 2025-01-17 13:09:02,924] Trial 15 finished with value: 0.7241379310344828 and parameters: {'n_estimators': 90, 'max_depth': 8, 'learning_rate': 0.17850010522329812, 'subsample': 0.6386862941561412, 'colsample_bytree': 0.860340776157194, 'gamma': 2.658791856469797, 'reg_alpha': 1.9139425028357069, 'reg_lambda': 8.425412972721922}. Best is trial 11 with value: 0.7741935483870968.\n",
            "/usr/local/lib/python3.11/dist-packages/xgboost/core.py:158: UserWarning: [13:09:02] WARNING: /workspace/src/learner.cc:740: \n",
            "Parameters: { \"use_label_encoder\" } are not used.\n",
            "\n",
            "  warnings.warn(smsg, UserWarning)\n",
            "[I 2025-01-17 13:09:03,309] Trial 16 finished with value: 0.711864406779661 and parameters: {'n_estimators': 240, 'max_depth': 8, 'learning_rate': 0.2562738439242144, 'subsample': 0.8743036441104097, 'colsample_bytree': 0.9955687033966255, 'gamma': 1.2685144195521336, 'reg_alpha': 0.09512792198675468, 'reg_lambda': 8.183459965926662}. Best is trial 11 with value: 0.7741935483870968.\n",
            "/usr/local/lib/python3.11/dist-packages/xgboost/core.py:158: UserWarning: [13:09:03] WARNING: /workspace/src/learner.cc:740: \n",
            "Parameters: { \"use_label_encoder\" } are not used.\n",
            "\n",
            "  warnings.warn(smsg, UserWarning)\n",
            "[I 2025-01-17 13:09:03,682] Trial 17 finished with value: 0.7241379310344828 and parameters: {'n_estimators': 192, 'max_depth': 12, 'learning_rate': 0.15309865744423118, 'subsample': 0.7007571876964442, 'colsample_bytree': 0.6067182909416837, 'gamma': 0.46570020977269433, 'reg_alpha': 4.1508495049285115, 'reg_lambda': 9.999175395540815}. Best is trial 11 with value: 0.7741935483870968.\n",
            "/usr/local/lib/python3.11/dist-packages/xgboost/core.py:158: UserWarning: [13:09:03] WARNING: /workspace/src/learner.cc:740: \n",
            "Parameters: { \"use_label_encoder\" } are not used.\n",
            "\n",
            "  warnings.warn(smsg, UserWarning)\n",
            "[I 2025-01-17 13:09:03,874] Trial 18 finished with value: 0.7017543859649122 and parameters: {'n_estimators': 116, 'max_depth': 9, 'learning_rate': 0.2542563062238974, 'subsample': 0.6544348998043135, 'colsample_bytree': 0.8310426262048269, 'gamma': 2.099489509063267, 'reg_alpha': 1.6796358837149, 'reg_lambda': 8.719604453784743}. Best is trial 11 with value: 0.7741935483870968.\n",
            "/usr/local/lib/python3.11/dist-packages/xgboost/core.py:158: UserWarning: [13:09:03] WARNING: /workspace/src/learner.cc:740: \n",
            "Parameters: { \"use_label_encoder\" } are not used.\n",
            "\n",
            "  warnings.warn(smsg, UserWarning)\n",
            "[I 2025-01-17 13:09:04,111] Trial 19 finished with value: 0.6896551724137931 and parameters: {'n_estimators': 226, 'max_depth': 11, 'learning_rate': 0.18553480135430278, 'subsample': 0.7312129378054019, 'colsample_bytree': 0.7323750680606128, 'gamma': 3.255327953225854, 'reg_alpha': 4.681969932861935, 'reg_lambda': 7.437675204332053}. Best is trial 11 with value: 0.7741935483870968.\n",
            "/usr/local/lib/python3.11/dist-packages/xgboost/core.py:158: UserWarning: [13:09:04] WARNING: /workspace/src/learner.cc:740: \n",
            "Parameters: { \"use_label_encoder\" } are not used.\n",
            "\n",
            "  warnings.warn(smsg, UserWarning)\n",
            "[I 2025-01-17 13:09:04,445] Trial 20 finished with value: 0.7 and parameters: {'n_estimators': 170, 'max_depth': 8, 'learning_rate': 0.1320764717599976, 'subsample': 0.6134906431121697, 'colsample_bytree': 0.9021914195026282, 'gamma': 0.532458753738168, 'reg_alpha': 5.8395680699528105, 'reg_lambda': 5.423419845105249}. Best is trial 11 with value: 0.7741935483870968.\n",
            "/usr/local/lib/python3.11/dist-packages/xgboost/core.py:158: UserWarning: [13:09:04] WARNING: /workspace/src/learner.cc:740: \n",
            "Parameters: { \"use_label_encoder\" } are not used.\n",
            "\n",
            "  warnings.warn(smsg, UserWarning)\n",
            "[I 2025-01-17 13:09:05,021] Trial 21 finished with value: 0.7741935483870968 and parameters: {'n_estimators': 227, 'max_depth': 10, 'learning_rate': 0.23433829096128256, 'subsample': 0.6414677713137975, 'colsample_bytree': 0.7731961355717087, 'gamma': 0.06065595600097029, 'reg_alpha': 0.8703057733354782, 'reg_lambda': 3.7455531531813753}. Best is trial 11 with value: 0.7741935483870968.\n",
            "/usr/local/lib/python3.11/dist-packages/xgboost/core.py:158: UserWarning: [13:09:05] WARNING: /workspace/src/learner.cc:740: \n",
            "Parameters: { \"use_label_encoder\" } are not used.\n",
            "\n",
            "  warnings.warn(smsg, UserWarning)\n",
            "[I 2025-01-17 13:09:07,210] Trial 22 finished with value: 0.7096774193548387 and parameters: {'n_estimators': 266, 'max_depth': 10, 'learning_rate': 0.2525176816378931, 'subsample': 0.6603826847830297, 'colsample_bytree': 0.7502287875293296, 'gamma': 0.21084109916761565, 'reg_alpha': 1.125461141605184, 'reg_lambda': 4.579217285860417}. Best is trial 11 with value: 0.7741935483870968.\n",
            "/usr/local/lib/python3.11/dist-packages/xgboost/core.py:158: UserWarning: [13:09:07] WARNING: /workspace/src/learner.cc:740: \n",
            "Parameters: { \"use_label_encoder\" } are not used.\n",
            "\n",
            "  warnings.warn(smsg, UserWarning)\n",
            "[I 2025-01-17 13:09:08,594] Trial 23 finished with value: 0.7 and parameters: {'n_estimators': 200, 'max_depth': 12, 'learning_rate': 0.19587910747257434, 'subsample': 0.6007035628394879, 'colsample_bytree': 0.8239529925437074, 'gamma': 1.1726611353790717, 'reg_alpha': 2.4465666654153293, 'reg_lambda': 0.0749757804249187}. Best is trial 11 with value: 0.7741935483870968.\n",
            "/usr/local/lib/python3.11/dist-packages/xgboost/core.py:158: UserWarning: [13:09:08] WARNING: /workspace/src/learner.cc:740: \n",
            "Parameters: { \"use_label_encoder\" } are not used.\n",
            "\n",
            "  warnings.warn(smsg, UserWarning)\n",
            "[I 2025-01-17 13:09:09,000] Trial 24 finished with value: 0.7666666666666667 and parameters: {'n_estimators': 227, 'max_depth': 9, 'learning_rate': 0.2309088632637787, 'subsample': 0.6461029325281556, 'colsample_bytree': 0.8012344654099888, 'gamma': 0.6995346908060898, 'reg_alpha': 0.025209221403235504, 'reg_lambda': 9.06874973816121}. Best is trial 11 with value: 0.7741935483870968.\n",
            "/usr/local/lib/python3.11/dist-packages/xgboost/core.py:158: UserWarning: [13:09:09] WARNING: /workspace/src/learner.cc:740: \n",
            "Parameters: { \"use_label_encoder\" } are not used.\n",
            "\n",
            "  warnings.warn(smsg, UserWarning)\n",
            "[I 2025-01-17 13:09:09,345] Trial 25 finished with value: 0.7666666666666667 and parameters: {'n_estimators': 242, 'max_depth': 9, 'learning_rate': 0.26515268552952664, 'subsample': 0.7285653090392561, 'colsample_bytree': 0.8165446707939423, 'gamma': 0.7917339638407502, 'reg_alpha': 1.0211456080799688, 'reg_lambda': 9.010461513227524}. Best is trial 11 with value: 0.7741935483870968.\n",
            "/usr/local/lib/python3.11/dist-packages/xgboost/core.py:158: UserWarning: [13:09:09] WARNING: /workspace/src/learner.cc:740: \n",
            "Parameters: { \"use_label_encoder\" } are not used.\n",
            "\n",
            "  warnings.warn(smsg, UserWarning)\n",
            "[I 2025-01-17 13:09:09,676] Trial 26 finished with value: 0.6666666666666666 and parameters: {'n_estimators': 273, 'max_depth': 7, 'learning_rate': 0.2153511547428626, 'subsample': 0.6441513387329901, 'colsample_bytree': 0.7131888302774487, 'gamma': 1.5039021760798692, 'reg_alpha': 2.024636158120146, 'reg_lambda': 7.272276162310152}. Best is trial 11 with value: 0.7741935483870968.\n",
            "/usr/local/lib/python3.11/dist-packages/xgboost/core.py:158: UserWarning: [13:09:09] WARNING: /workspace/src/learner.cc:740: \n",
            "Parameters: { \"use_label_encoder\" } are not used.\n",
            "\n",
            "  warnings.warn(smsg, UserWarning)\n",
            "[I 2025-01-17 13:09:10,113] Trial 27 finished with value: 0.7619047619047619 and parameters: {'n_estimators': 250, 'max_depth': 10, 'learning_rate': 0.1750677510262771, 'subsample': 0.683635516807495, 'colsample_bytree': 0.8936606155119059, 'gamma': 0.6204803350265893, 'reg_alpha': 1.0033640654916933, 'reg_lambda': 2.243865986828288}. Best is trial 11 with value: 0.7741935483870968.\n",
            "/usr/local/lib/python3.11/dist-packages/xgboost/core.py:158: UserWarning: [13:09:10] WARNING: /workspace/src/learner.cc:740: \n",
            "Parameters: { \"use_label_encoder\" } are not used.\n",
            "\n",
            "  warnings.warn(smsg, UserWarning)\n",
            "[I 2025-01-17 13:09:10,370] Trial 28 finished with value: 0.6774193548387096 and parameters: {'n_estimators': 210, 'max_depth': 7, 'learning_rate': 0.23978615818793572, 'subsample': 0.8476465136526036, 'colsample_bytree': 0.7687883269373872, 'gamma': 2.192726628788361, 'reg_alpha': 0.1023329066860521, 'reg_lambda': 5.357112054592024}. Best is trial 11 with value: 0.7741935483870968.\n",
            "/usr/local/lib/python3.11/dist-packages/xgboost/core.py:158: UserWarning: [13:09:10] WARNING: /workspace/src/learner.cc:740: \n",
            "Parameters: { \"use_label_encoder\" } are not used.\n",
            "\n",
            "  warnings.warn(smsg, UserWarning)\n",
            "[I 2025-01-17 13:09:10,820] Trial 29 finished with value: 0.71875 and parameters: {'n_estimators': 231, 'max_depth': 13, 'learning_rate': 0.2765181061610932, 'subsample': 0.930703448356936, 'colsample_bytree': 0.9249354134383316, 'gamma': 0.008848045936038551, 'reg_alpha': 3.76042899953899, 'reg_lambda': 3.7886214009061696}. Best is trial 11 with value: 0.7741935483870968.\n",
            "/usr/local/lib/python3.11/dist-packages/xgboost/core.py:158: UserWarning: [13:09:10] WARNING: /workspace/src/learner.cc:740: \n",
            "Parameters: { \"use_label_encoder\" } are not used.\n",
            "\n",
            "  warnings.warn(smsg, UserWarning)\n",
            "[I 2025-01-17 13:09:11,119] Trial 30 finished with value: 0.6779661016949152 and parameters: {'n_estimators': 257, 'max_depth': 5, 'learning_rate': 0.13248646912003398, 'subsample': 0.7387615324383888, 'colsample_bytree': 0.9883318067190616, 'gamma': 4.969119757669814, 'reg_alpha': 2.4674780974790425, 'reg_lambda': 2.568146036061446}. Best is trial 11 with value: 0.7741935483870968.\n",
            "/usr/local/lib/python3.11/dist-packages/xgboost/core.py:158: UserWarning: [13:09:11] WARNING: /workspace/src/learner.cc:740: \n",
            "Parameters: { \"use_label_encoder\" } are not used.\n",
            "\n",
            "  warnings.warn(smsg, UserWarning)\n",
            "[I 2025-01-17 13:09:11,506] Trial 31 finished with value: 0.7419354838709677 and parameters: {'n_estimators': 240, 'max_depth': 9, 'learning_rate': 0.2720374066109939, 'subsample': 0.6355814920591424, 'colsample_bytree': 0.822835046900077, 'gamma': 1.041095615282181, 'reg_alpha': 0.9124407037963482, 'reg_lambda': 8.810849158831523}. Best is trial 11 with value: 0.7741935483870968.\n",
            "/usr/local/lib/python3.11/dist-packages/xgboost/core.py:158: UserWarning: [13:09:11] WARNING: /workspace/src/learner.cc:740: \n",
            "Parameters: { \"use_label_encoder\" } are not used.\n",
            "\n",
            "  warnings.warn(smsg, UserWarning)\n",
            "[I 2025-01-17 13:09:11,879] Trial 32 finished with value: 0.7419354838709677 and parameters: {'n_estimators': 280, 'max_depth': 9, 'learning_rate': 0.2679824133256839, 'subsample': 0.7152509293617295, 'colsample_bytree': 0.8153502421151677, 'gamma': 0.7018874948609423, 'reg_alpha': 1.2691537036279201, 'reg_lambda': 9.151265143766983}. Best is trial 11 with value: 0.7741935483870968.\n",
            "/usr/local/lib/python3.11/dist-packages/xgboost/core.py:158: UserWarning: [13:09:11] WARNING: /workspace/src/learner.cc:740: \n",
            "Parameters: { \"use_label_encoder\" } are not used.\n",
            "\n",
            "  warnings.warn(smsg, UserWarning)\n",
            "[I 2025-01-17 13:09:12,330] Trial 33 finished with value: 0.7301587301587301 and parameters: {'n_estimators': 247, 'max_depth': 8, 'learning_rate': 0.24096917716707134, 'subsample': 0.6710298131796419, 'colsample_bytree': 0.7999725441976719, 'gamma': 0.43706205767431044, 'reg_alpha': 0.8573936738157186, 'reg_lambda': 9.086696507654672}. Best is trial 11 with value: 0.7741935483870968.\n",
            "/usr/local/lib/python3.11/dist-packages/xgboost/core.py:158: UserWarning: [13:09:12] WARNING: /workspace/src/learner.cc:740: \n",
            "Parameters: { \"use_label_encoder\" } are not used.\n",
            "\n",
            "  warnings.warn(smsg, UserWarning)\n",
            "[I 2025-01-17 13:09:12,660] Trial 34 finished with value: 0.7017543859649122 and parameters: {'n_estimators': 179, 'max_depth': 11, 'learning_rate': 0.20283281917501877, 'subsample': 0.718332100950373, 'colsample_bytree': 0.8383816216423984, 'gamma': 0.7887232481431835, 'reg_alpha': 2.8283602114808777, 'reg_lambda': 7.327507998019863}. Best is trial 11 with value: 0.7741935483870968.\n",
            "/usr/local/lib/python3.11/dist-packages/xgboost/core.py:158: UserWarning: [13:09:12] WARNING: /workspace/src/learner.cc:740: \n",
            "Parameters: { \"use_label_encoder\" } are not used.\n",
            "\n",
            "  warnings.warn(smsg, UserWarning)\n",
            "[I 2025-01-17 13:09:12,911] Trial 35 finished with value: 0.7017543859649122 and parameters: {'n_estimators': 236, 'max_depth': 7, 'learning_rate': 0.29797596218042643, 'subsample': 0.6949991321146344, 'colsample_bytree': 0.722130846245256, 'gamma': 1.567267518678861, 'reg_alpha': 2.165471892291335, 'reg_lambda': 7.869577801940286}. Best is trial 11 with value: 0.7741935483870968.\n",
            "/usr/local/lib/python3.11/dist-packages/xgboost/core.py:158: UserWarning: [13:09:12] WARNING: /workspace/src/learner.cc:740: \n",
            "Parameters: { \"use_label_encoder\" } are not used.\n",
            "\n",
            "  warnings.warn(smsg, UserWarning)\n",
            "[I 2025-01-17 13:09:13,278] Trial 36 finished with value: 0.8 and parameters: {'n_estimators': 254, 'max_depth': 9, 'learning_rate': 0.24918759351028358, 'subsample': 0.6294181868506856, 'colsample_bytree': 0.7560086418046735, 'gamma': 0.8877963426045927, 'reg_alpha': 0.8161872396629318, 'reg_lambda': 6.781992981554362}. Best is trial 36 with value: 0.8.\n",
            "/usr/local/lib/python3.11/dist-packages/xgboost/core.py:158: UserWarning: [13:09:13] WARNING: /workspace/src/learner.cc:740: \n",
            "Parameters: { \"use_label_encoder\" } are not used.\n",
            "\n",
            "  warnings.warn(smsg, UserWarning)\n",
            "[I 2025-01-17 13:09:13,642] Trial 37 finished with value: 0.7333333333333333 and parameters: {'n_estimators': 282, 'max_depth': 10, 'learning_rate': 0.23578560843719176, 'subsample': 0.6253348316192124, 'colsample_bytree': 0.6846021661520949, 'gamma': 1.277440198086738, 'reg_alpha': 0.07428050597939356, 'reg_lambda': 6.860545074847019}. Best is trial 36 with value: 0.8.\n",
            "/usr/local/lib/python3.11/dist-packages/xgboost/core.py:158: UserWarning: [13:09:13] WARNING: /workspace/src/learner.cc:740: \n",
            "Parameters: { \"use_label_encoder\" } are not used.\n",
            "\n",
            "  warnings.warn(smsg, UserWarning)\n",
            "[I 2025-01-17 13:09:13,948] Trial 38 finished with value: 0.7241379310344828 and parameters: {'n_estimators': 264, 'max_depth': 13, 'learning_rate': 0.28837088656179166, 'subsample': 0.6562798286058291, 'colsample_bytree': 0.7621161967346924, 'gamma': 0.2320490533597437, 'reg_alpha': 7.363679443815844, 'reg_lambda': 5.844723638118327}. Best is trial 36 with value: 0.8.\n",
            "/usr/local/lib/python3.11/dist-packages/xgboost/core.py:158: UserWarning: [13:09:14] WARNING: /workspace/src/learner.cc:740: \n",
            "Parameters: { \"use_label_encoder\" } are not used.\n",
            "\n",
            "  warnings.warn(smsg, UserWarning)\n",
            "[I 2025-01-17 13:09:14,360] Trial 39 finished with value: 0.7586206896551724 and parameters: {'n_estimators': 299, 'max_depth': 15, 'learning_rate': 0.16703247557659628, 'subsample': 0.7520332249830662, 'colsample_bytree': 0.7924663786928081, 'gamma': 0.9632385413515971, 'reg_alpha': 1.4889141926123555, 'reg_lambda': 4.553607045125149}. Best is trial 36 with value: 0.8.\n",
            "/usr/local/lib/python3.11/dist-packages/xgboost/core.py:158: UserWarning: [13:09:14] WARNING: /workspace/src/learner.cc:740: \n",
            "Parameters: { \"use_label_encoder\" } are not used.\n",
            "\n",
            "  warnings.warn(smsg, UserWarning)\n",
            "[I 2025-01-17 13:09:14,596] Trial 40 finished with value: 0.6896551724137931 and parameters: {'n_estimators': 154, 'max_depth': 5, 'learning_rate': 0.19495843605665464, 'subsample': 0.6307502467027771, 'colsample_bytree': 0.7455611403271032, 'gamma': 1.655129803975072, 'reg_alpha': 6.271393051951598, 'reg_lambda': 3.4786614445137825}. Best is trial 36 with value: 0.8.\n",
            "/usr/local/lib/python3.11/dist-packages/xgboost/core.py:158: UserWarning: [13:09:14] WARNING: /workspace/src/learner.cc:740: \n",
            "Parameters: { \"use_label_encoder\" } are not used.\n",
            "\n",
            "  warnings.warn(smsg, UserWarning)\n",
            "[I 2025-01-17 13:09:14,994] Trial 41 finished with value: 0.7868852459016393 and parameters: {'n_estimators': 253, 'max_depth': 9, 'learning_rate': 0.2547768697302466, 'subsample': 0.6594647949851905, 'colsample_bytree': 0.8054119997015339, 'gamma': 0.755701265314355, 'reg_alpha': 0.6967288340709223, 'reg_lambda': 8.99497261532848}. Best is trial 36 with value: 0.8.\n",
            "/usr/local/lib/python3.11/dist-packages/xgboost/core.py:158: UserWarning: [13:09:15] WARNING: /workspace/src/learner.cc:740: \n",
            "Parameters: { \"use_label_encoder\" } are not used.\n",
            "\n",
            "  warnings.warn(smsg, UserWarning)\n",
            "[I 2025-01-17 13:09:15,452] Trial 42 finished with value: 0.7540983606557377 and parameters: {'n_estimators': 256, 'max_depth': 9, 'learning_rate': 0.21614101486934947, 'subsample': 0.6547646261214477, 'colsample_bytree': 0.847822962813436, 'gamma': 0.5812794131892344, 'reg_alpha': 0.5226064847072163, 'reg_lambda': 6.624371127869956}. Best is trial 36 with value: 0.8.\n",
            "/usr/local/lib/python3.11/dist-packages/xgboost/core.py:158: UserWarning: [13:09:15] WARNING: /workspace/src/learner.cc:740: \n",
            "Parameters: { \"use_label_encoder\" } are not used.\n",
            "\n",
            "  warnings.warn(smsg, UserWarning)\n",
            "[I 2025-01-17 13:09:15,891] Trial 43 finished with value: 0.7540983606557377 and parameters: {'n_estimators': 210, 'max_depth': 10, 'learning_rate': 0.24711900845091928, 'subsample': 0.6196213265962366, 'colsample_bytree': 0.7960286843610028, 'gamma': 0.2699847047586575, 'reg_alpha': 3.098261468108988, 'reg_lambda': 9.281252297863267}. Best is trial 36 with value: 0.8.\n",
            "/usr/local/lib/python3.11/dist-packages/xgboost/core.py:158: UserWarning: [13:09:15] WARNING: /workspace/src/learner.cc:740: \n",
            "Parameters: { \"use_label_encoder\" } are not used.\n",
            "\n",
            "  warnings.warn(smsg, UserWarning)\n",
            "[I 2025-01-17 13:09:16,201] Trial 44 finished with value: 0.75 and parameters: {'n_estimators': 60, 'max_depth': 11, 'learning_rate': 0.28016465538742397, 'subsample': 0.6917200247026563, 'colsample_bytree': 0.8751048857003125, 'gamma': 0.18374416917392955, 'reg_alpha': 0.5923297706646583, 'reg_lambda': 8.479653288436285}. Best is trial 36 with value: 0.8.\n",
            "/usr/local/lib/python3.11/dist-packages/xgboost/core.py:158: UserWarning: [13:09:16] WARNING: /workspace/src/learner.cc:740: \n",
            "Parameters: { \"use_label_encoder\" } are not used.\n",
            "\n",
            "  warnings.warn(smsg, UserWarning)\n",
            "[I 2025-01-17 13:09:16,505] Trial 45 finished with value: 0.7540983606557377 and parameters: {'n_estimators': 194, 'max_depth': 8, 'learning_rate': 0.23048169258464518, 'subsample': 0.6693297905316852, 'colsample_bytree': 0.7027639140724002, 'gamma': 0.8676260244952816, 'reg_alpha': 1.441556180591985, 'reg_lambda': 7.741120703811916}. Best is trial 36 with value: 0.8.\n",
            "/usr/local/lib/python3.11/dist-packages/xgboost/core.py:158: UserWarning: [13:09:16] WARNING: /workspace/src/learner.cc:740: \n",
            "Parameters: { \"use_label_encoder\" } are not used.\n",
            "\n",
            "  warnings.warn(smsg, UserWarning)\n",
            "[I 2025-01-17 13:09:16,807] Trial 46 finished with value: 0.6779661016949152 and parameters: {'n_estimators': 220, 'max_depth': 12, 'learning_rate': 0.21580294521681231, 'subsample': 0.6359070885841988, 'colsample_bytree': 0.7605898571080302, 'gamma': 3.740257338497827, 'reg_alpha': 0.574671511644841, 'reg_lambda': 9.970030579979586}. Best is trial 36 with value: 0.8.\n",
            "/usr/local/lib/python3.11/dist-packages/xgboost/core.py:158: UserWarning: [13:09:16] WARNING: /workspace/src/learner.cc:740: \n",
            "Parameters: { \"use_label_encoder\" } are not used.\n",
            "\n",
            "  warnings.warn(smsg, UserWarning)\n",
            "[I 2025-01-17 13:09:17,361] Trial 47 finished with value: 0.7017543859649122 and parameters: {'n_estimators': 273, 'max_depth': 9, 'learning_rate': 0.01990420436197718, 'subsample': 0.6421815484016702, 'colsample_bytree': 0.7824591058683548, 'gamma': 1.2032029600708665, 'reg_alpha': 8.21224848488607, 'reg_lambda': 9.418276870622693}. Best is trial 36 with value: 0.8.\n",
            "/usr/local/lib/python3.11/dist-packages/xgboost/core.py:158: UserWarning: [13:09:17] WARNING: /workspace/src/learner.cc:740: \n",
            "Parameters: { \"use_label_encoder\" } are not used.\n",
            "\n",
            "  warnings.warn(smsg, UserWarning)\n",
            "[I 2025-01-17 13:09:17,760] Trial 48 finished with value: 0.7796610169491526 and parameters: {'n_estimators': 253, 'max_depth': 10, 'learning_rate': 0.2661463466812398, 'subsample': 0.787121876833087, 'colsample_bytree': 0.7338653959515402, 'gamma': 0.378632042796582, 'reg_alpha': 0.037024302323174274, 'reg_lambda': 2.6366693537980943}. Best is trial 36 with value: 0.8.\n",
            "/usr/local/lib/python3.11/dist-packages/xgboost/core.py:158: UserWarning: [13:09:17] WARNING: /workspace/src/learner.cc:740: \n",
            "Parameters: { \"use_label_encoder\" } are not used.\n",
            "\n",
            "  warnings.warn(smsg, UserWarning)\n",
            "[I 2025-01-17 13:09:18,032] Trial 49 finished with value: 0.6885245901639344 and parameters: {'n_estimators': 254, 'max_depth': 11, 'learning_rate': 0.26060250364962856, 'subsample': 0.8094808038134559, 'colsample_bytree': 0.7271975532049813, 'gamma': 1.8194138811362404, 'reg_alpha': 1.8625652320004666, 'reg_lambda': 2.5838772897257916}. Best is trial 36 with value: 0.8.\n"
          ]
        },
        {
          "output_type": "stream",
          "name": "stdout",
          "text": [
            "Best hyperparameters: {'n_estimators': 254, 'max_depth': 9, 'learning_rate': 0.24918759351028358, 'subsample': 0.6294181868506856, 'colsample_bytree': 0.7560086418046735, 'gamma': 0.8877963426045927, 'reg_alpha': 0.8161872396629318, 'reg_lambda': 6.781992981554362}\n"
          ]
        }
      ]
    },
    {
      "cell_type": "code",
      "source": [
        "# Train the best model with the full training set\n",
        "best_xgb = XGBClassifier(random_state=42, use_label_encoder=False, eval_metric='logloss', **study.best_params)\n",
        "best_xgb.fit(X_train, y_train)\n",
        "\n",
        "\n",
        "# Make predictions with the optimized XGBoost model\n",
        "y_pred_best_xgb = best_xgb.predict(X_test)\n",
        "\n",
        "# Evaluate performance\n",
        "print(\"Optimized XGBoost Results (via Optuna):\")\n",
        "print(\"Accuracy:\", accuracy_score(y_test, y_pred_best_xgb))\n",
        "print(\"Confusion Matrix:\\n\", confusion_matrix(y_test, y_pred_best_xgb))\n",
        "print(\"Classification Report:\\n\", classification_report(y_test, y_pred_best_xgb))\n"
      ],
      "metadata": {
        "colab": {
          "base_uri": "https://localhost:8080/"
        },
        "id": "xZ1Uc33tYE1_",
        "outputId": "d52207f1-4280-42f2-86cc-24f1ecd84816"
      },
      "execution_count": null,
      "outputs": [
        {
          "output_type": "stream",
          "name": "stderr",
          "text": [
            "/usr/local/lib/python3.11/dist-packages/xgboost/core.py:158: UserWarning: [13:12:22] WARNING: /workspace/src/learner.cc:740: \n",
            "Parameters: { \"use_label_encoder\" } are not used.\n",
            "\n",
            "  warnings.warn(smsg, UserWarning)\n"
          ]
        },
        {
          "output_type": "stream",
          "name": "stdout",
          "text": [
            "Optimized XGBoost Results (via Optuna):\n",
            "Accuracy: 0.9641255605381166\n",
            "Confusion Matrix:\n",
            " [[175   2]\n",
            " [  6  40]]\n",
            "Classification Report:\n",
            "               precision    recall  f1-score   support\n",
            "\n",
            "           0       0.97      0.99      0.98       177\n",
            "           1       0.95      0.87      0.91        46\n",
            "\n",
            "    accuracy                           0.96       223\n",
            "   macro avg       0.96      0.93      0.94       223\n",
            "weighted avg       0.96      0.96      0.96       223\n",
            "\n"
          ]
        }
      ]
    },
    {
      "cell_type": "code",
      "source": [
        "import joblib\n",
        "\n",
        "# Save the Optuna-tuned XGBoost model\n",
        "joblib.dump(best_xgb, 'optimized_xgboost_model.pkl')\n",
        "\n",
        "print(\"Optimized XGBoost model saved as 'optimized_xgboost_model.pkl'\")\n"
      ],
      "metadata": {
        "colab": {
          "base_uri": "https://localhost:8080/"
        },
        "id": "5mgGQgqbXcyI",
        "outputId": "e4046b42-b046-42c9-92aa-f46b2bfe79f3"
      },
      "execution_count": null,
      "outputs": [
        {
          "output_type": "stream",
          "name": "stdout",
          "text": [
            "Optimized XGBoost model saved as 'optimized_xgboost_model.pkl'\n"
          ]
        }
      ]
    },
    {
      "cell_type": "code",
      "source": [
        "# Predict probabilities\n",
        "xgb_probs = best_xgb.predict_proba(X_test)\n",
        "lgb_probs = lgb_best_model.predict_proba(X_test)\n",
        "\n",
        "# Average the probabilities\n",
        "combined_probs = (xgb_probs + lgb_probs) / 2\n",
        "\n",
        "# Convert probabilities to class predictions\n",
        "combined_predictions = np.argmax(combined_probs, axis=1)\n",
        "\n",
        "# Evaluate the combined model\n",
        "print(\"Combined XGBoost and LightGBM Results:\")\n",
        "print(\"Accuracy:\", accuracy_score(y_test, combined_predictions))\n",
        "print(\"Confusion Matrix:\\n\", confusion_matrix(y_test, combined_predictions))\n",
        "print(\"Classification Report:\\n\", classification_report(y_test, combined_predictions))\n"
      ],
      "metadata": {
        "colab": {
          "base_uri": "https://localhost:8080/"
        },
        "id": "AFhr5j7RZitN",
        "outputId": "6c92ea46-6466-40a2-d12c-dc30498539fb"
      },
      "execution_count": null,
      "outputs": [
        {
          "output_type": "stream",
          "name": "stdout",
          "text": [
            "Combined XGBoost and LightGBM Results:\n",
            "Accuracy: 0.9282511210762332\n",
            "Confusion Matrix:\n",
            " [[172   5]\n",
            " [ 11  35]]\n",
            "Classification Report:\n",
            "               precision    recall  f1-score   support\n",
            "\n",
            "           0       0.94      0.97      0.96       177\n",
            "           1       0.88      0.76      0.81        46\n",
            "\n",
            "    accuracy                           0.93       223\n",
            "   macro avg       0.91      0.87      0.88       223\n",
            "weighted avg       0.93      0.93      0.93       223\n",
            "\n"
          ]
        }
      ]
    },
    {
      "cell_type": "code",
      "source": [
        "import pandas as pd\n",
        "import matplotlib.pyplot as plt\n",
        "\n",
        "# Get feature importance from the optimized XGBoost model\n",
        "feature_importances = best_xgb.feature_importances_\n",
        "\n",
        "# Combine feature names and their importance into a DataFrame\n",
        "feature_importance_df = pd.DataFrame({\n",
        "    'Feature': X_train.columns,\n",
        "    'Importance': feature_importances\n",
        "}).sort_values(by='Importance', ascending=False)\n",
        "\n",
        "# Display the top features\n",
        "print(\"Top Features by Importance:\")\n",
        "print(feature_importance_df.head(10))\n",
        "\n",
        "# Visualize the top features\n",
        "plt.figure(figsize=(10, 6))\n",
        "plt.barh(feature_importance_df['Feature'][:10][::-1], feature_importance_df['Importance'][:10][::-1])\n",
        "plt.xlabel('Importance Score')\n",
        "plt.ylabel('Feature')\n",
        "plt.title('Top 10 Important Features (XGBoost)')\n",
        "plt.show()\n"
      ],
      "metadata": {
        "colab": {
          "base_uri": "https://localhost:8080/",
          "height": 783
        },
        "id": "h8juQWqAZooy",
        "outputId": "cf391a3f-5334-4293-90ea-dc8dd88f23fb"
      },
      "execution_count": null,
      "outputs": [
        {
          "output_type": "stream",
          "name": "stdout",
          "text": [
            "Top Features by Importance:\n",
            "      Feature  Importance\n",
            "8         VIX    0.096161\n",
            "18  GTITL30YR    0.082927\n",
            "19  GTITL10YR    0.067197\n",
            "9    USGG30YR    0.030089\n",
            "30   LF98TRUU    0.027829\n",
            "20   GTITL2YR    0.027272\n",
            "37       MXJP    0.027017\n",
            "2        BDIY    0.026382\n",
            "24   GTGBP30Y    0.024422\n",
            "34   LF94TRUU    0.023020\n"
          ]
        },
        {
          "output_type": "display_data",
          "data": {
            "text/plain": [
              "<Figure size 1000x600 with 1 Axes>"
            ],
            "image/png": "[encoded data removed]"
          },
          "metadata": {}
        }
      ]
    },
    {
      "cell_type": "code",
      "source": [
        "# List all features in the original dataset\n",
        "all_features = data_scaled.columns\n",
        "\n",
        "# Check which features were used in training\n",
        "used_features = X_train.columns\n",
        "\n",
        "# Find features excluded from training\n",
        "excluded_features = set(all_features) - set(used_features)\n",
        "print(\"Features excluded from training:\", excluded_features)\n",
        "\n",
        "# Compare features\n",
        "print(\"Number of Features in Dataset:\", len(all_features))\n",
        "print(\"Number of Features Used in Training:\", len(used_features))\n",
        "print(\"Number of Features Excluded:\", len(excluded_features))\n"
      ],
      "metadata": {
        "colab": {
          "base_uri": "https://localhost:8080/"
        },
        "id": "Xwd0MTA9aIcb",
        "outputId": "df09291c-5f17-4436-f547-213b6ce63feb"
      },
      "execution_count": null,
      "outputs": [
        {
          "output_type": "stream",
          "name": "stdout",
          "text": [
            "Features excluded from training: {'Y', 'Data'}\n",
            "Number of Features in Dataset: 44\n",
            "Number of Features Used in Training: 42\n",
            "Number of Features Excluded: 2\n"
          ]
        }
      ]
    },
    {
      "cell_type": "code",
      "source": [],
      "metadata": {
        "id": "vygCW0ooaKya"
      },
      "execution_count": null,
      "outputs": []
    }
  ]
}